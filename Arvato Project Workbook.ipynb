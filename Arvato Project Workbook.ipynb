{
 "cells": [
  {
   "cell_type": "markdown",
   "metadata": {},
   "source": [
    "# Capstone Project: Create a Customer Segmentation Report for Arvato Financial Services\n",
    "\n",
    "In this project, you will analyze demographics data for customers of a mail-order sales company in Germany, comparing it against demographics information for the general population. You'll use unsupervised learning techniques to perform customer segmentation, identifying the parts of the population that best describe the core customer base of the company. Then, you'll apply what you've learned on a third dataset with demographics information for targets of a marketing campaign for the company, and use a model to predict which individuals are most likely to convert into becoming customers for the company. The data that you will use has been provided by our partners at Bertelsmann Arvato Analytics, and represents a real-life data science task.\n",
    "\n",
    "If you completed the first term of this program, you will be familiar with the first part of this project, from the unsupervised learning project. The versions of those two datasets used in this project will include many more features and has not been pre-cleaned. You are also free to choose whatever approach you'd like to analyzing the data rather than follow pre-determined steps. In your work on this project, make sure that you carefully document your steps and decisions, since your main deliverable for this project will be a blog post reporting your findings."
   ]
  },
  {
   "cell_type": "code",
   "execution_count": 2,
   "metadata": {},
   "outputs": [],
   "source": [
    "# import libraries here; add more as necessary\n",
    "import numpy as np\n",
    "import pandas as pd\n",
    "import matplotlib.pyplot as plt\n",
    "import seaborn as sns\n",
    "import sklearn\n",
    "\n",
    "from sklearn.impute import SimpleImputer\n",
    "from sklearn.preprocessing import StandardScaler\n",
    "from sklearn.decomposition import PCA\n",
    "from sklearn.cluster import KMeans\n",
    "from sklearn.pipeline import Pipeline\n",
    "from sklearn.utils import resample\n",
    "from sklearn.model_selection import GridSearchCV\n",
    "\n",
    "# Classification Models\n",
    "from sklearn.linear_model import LogisticRegression\n",
    "from sklearn.tree import DecisionTreeClassifier\n",
    "from sklearn.ensemble import RandomForestClassifier\n",
    "from sklearn.neighbors import KNeighborsClassifier\n",
    "from sklearn.ensemble import AdaBoostClassifier\n",
    "\n",
    "%matplotlib inline"
   ]
  },
  {
   "cell_type": "markdown",
   "metadata": {},
   "source": [
    "## Part 0: Get to Know the Data\n",
    "\n",
    "There are four data files associated with this project:\n",
    "\n",
    "- `Udacity_AZDIAS_052018.csv`: Demographics data for the general population of Germany; 891 211 persons (rows) x 366 features (columns).\n",
    "- `Udacity_CUSTOMERS_052018.csv`: Demographics data for customers of a mail-order company; 191 652 persons (rows) x 369 features (columns).\n",
    "- `Udacity_MAILOUT_052018_TRAIN.csv`: Demographics data for individuals who were targets of a marketing campaign; 42 982 persons (rows) x 367 (columns).\n",
    "- `Udacity_MAILOUT_052018_TEST.csv`: Demographics data for individuals who were targets of a marketing campaign; 42 833 persons (rows) x 366 (columns).\n",
    "\n",
    "Each row of the demographics files represents a single person, but also includes information outside of individuals, including information about their household, building, and neighborhood. Use the information from the first two files to figure out how customers (\"CUSTOMERS\") are similar to or differ from the general population at large (\"AZDIAS\"), then use your analysis to make predictions on the other two files (\"MAILOUT\"), predicting which recipients are most likely to become a customer for the mail-order company.\n",
    "\n",
    "The \"CUSTOMERS\" file contains three extra columns ('CUSTOMER_GROUP', 'ONLINE_PURCHASE', and 'PRODUCT_GROUP'), which provide broad information about the customers depicted in the file. The original \"MAILOUT\" file included one additional column, \"RESPONSE\", which indicated whether or not each recipient became a customer of the company. For the \"TRAIN\" subset, this column has been retained, but in the \"TEST\" subset it has been removed; it is against that withheld column that your final predictions will be assessed in the Kaggle competition.\n",
    "\n",
    "Otherwise, all of the remaining columns are the same between the three data files. For more information about the columns depicted in the files, you can refer to two Excel spreadsheets provided in the workspace. [One of them](./DIAS Information Levels - Attributes 2017.xlsx) is a top-level list of attributes and descriptions, organized by informational category. [The other](./DIAS Attributes - Values 2017.xlsx) is a detailed mapping of data values for each feature in alphabetical order.\n",
    "\n",
    "In the below cell, we've provided some initial code to load in the first two datasets. Note for all of the `.csv` data files in this project that they're semicolon (`;`) delimited, so an additional argument in the [`read_csv()`](https://pandas.pydata.org/pandas-docs/stable/generated/pandas.read_csv.html) call has been included to read in the data properly. Also, considering the size of the datasets, it may take some time for them to load completely.\n",
    "\n",
    "You'll notice when the data is loaded in that a warning message will immediately pop up. Before you really start digging into the modeling and analysis, you're going to need to perform some cleaning. Take some time to browse the structure of the data and look over the informational spreadsheets to understand the data values. Make some decisions on which features to keep, which features to drop, and if any revisions need to be made on data formats. It'll be a good idea to create a function with pre-processing steps, since you'll need to clean all of the datasets before you work with them."
   ]
  },
  {
   "cell_type": "markdown",
   "metadata": {},
   "source": [
    "## Load the data"
   ]
  },
  {
   "cell_type": "markdown",
   "metadata": {},
   "source": [
    "First, we load the data and get a sample of the original dataset because we want to reduce the computation time. The original dataset contains 891.211 rows and 366 columns. After loading the data, we get a datatype warning saying that the columns 18 and 19 contain mixed types. We will hanlde this error in the preprocessing part."
   ]
  },
  {
   "cell_type": "code",
   "execution_count": 3,
   "metadata": {},
   "outputs": [
    {
     "name": "stderr",
     "output_type": "stream",
     "text": [
      "/opt/conda/lib/python3.6/site-packages/IPython/core/interactiveshell.py:2785: DtypeWarning: Columns (18,19) have mixed types. Specify dtype option on import or set low_memory=False.\n",
      "  interactivity=interactivity, compiler=compiler, result=result)\n"
     ]
    }
   ],
   "source": [
    "# Load in the data\n",
    "azdias_all = pd.read_csv('../../data/Term2/capstone/arvato_data/Udacity_AZDIAS_052018.csv', sep=';')"
   ]
  },
  {
   "cell_type": "code",
   "execution_count": 4,
   "metadata": {
    "scrolled": true
   },
   "outputs": [
    {
     "data": {
      "text/html": [
       "<div>\n",
       "<style scoped>\n",
       "    .dataframe tbody tr th:only-of-type {\n",
       "        vertical-align: middle;\n",
       "    }\n",
       "\n",
       "    .dataframe tbody tr th {\n",
       "        vertical-align: top;\n",
       "    }\n",
       "\n",
       "    .dataframe thead th {\n",
       "        text-align: right;\n",
       "    }\n",
       "</style>\n",
       "<table border=\"1\" class=\"dataframe\">\n",
       "  <thead>\n",
       "    <tr style=\"text-align: right;\">\n",
       "      <th></th>\n",
       "      <th>LNR</th>\n",
       "      <th>AGER_TYP</th>\n",
       "      <th>AKT_DAT_KL</th>\n",
       "      <th>ALTER_HH</th>\n",
       "      <th>ALTER_KIND1</th>\n",
       "      <th>ALTER_KIND2</th>\n",
       "      <th>ALTER_KIND3</th>\n",
       "      <th>ALTER_KIND4</th>\n",
       "      <th>ALTERSKATEGORIE_FEIN</th>\n",
       "      <th>ANZ_HAUSHALTE_AKTIV</th>\n",
       "      <th>...</th>\n",
       "      <th>VHN</th>\n",
       "      <th>VK_DHT4A</th>\n",
       "      <th>VK_DISTANZ</th>\n",
       "      <th>VK_ZG11</th>\n",
       "      <th>W_KEIT_KIND_HH</th>\n",
       "      <th>WOHNDAUER_2008</th>\n",
       "      <th>WOHNLAGE</th>\n",
       "      <th>ZABEOTYP</th>\n",
       "      <th>ANREDE_KZ</th>\n",
       "      <th>ALTERSKATEGORIE_GROB</th>\n",
       "    </tr>\n",
       "  </thead>\n",
       "  <tbody>\n",
       "    <tr>\n",
       "      <th>0</th>\n",
       "      <td>910215</td>\n",
       "      <td>-1</td>\n",
       "      <td>NaN</td>\n",
       "      <td>NaN</td>\n",
       "      <td>NaN</td>\n",
       "      <td>NaN</td>\n",
       "      <td>NaN</td>\n",
       "      <td>NaN</td>\n",
       "      <td>NaN</td>\n",
       "      <td>NaN</td>\n",
       "      <td>...</td>\n",
       "      <td>NaN</td>\n",
       "      <td>NaN</td>\n",
       "      <td>NaN</td>\n",
       "      <td>NaN</td>\n",
       "      <td>NaN</td>\n",
       "      <td>NaN</td>\n",
       "      <td>NaN</td>\n",
       "      <td>3</td>\n",
       "      <td>1</td>\n",
       "      <td>2</td>\n",
       "    </tr>\n",
       "    <tr>\n",
       "      <th>1</th>\n",
       "      <td>910220</td>\n",
       "      <td>-1</td>\n",
       "      <td>9.0</td>\n",
       "      <td>0.0</td>\n",
       "      <td>NaN</td>\n",
       "      <td>NaN</td>\n",
       "      <td>NaN</td>\n",
       "      <td>NaN</td>\n",
       "      <td>21.0</td>\n",
       "      <td>11.0</td>\n",
       "      <td>...</td>\n",
       "      <td>4.0</td>\n",
       "      <td>8.0</td>\n",
       "      <td>11.0</td>\n",
       "      <td>10.0</td>\n",
       "      <td>3.0</td>\n",
       "      <td>9.0</td>\n",
       "      <td>4.0</td>\n",
       "      <td>5</td>\n",
       "      <td>2</td>\n",
       "      <td>1</td>\n",
       "    </tr>\n",
       "    <tr>\n",
       "      <th>2</th>\n",
       "      <td>910225</td>\n",
       "      <td>-1</td>\n",
       "      <td>9.0</td>\n",
       "      <td>17.0</td>\n",
       "      <td>NaN</td>\n",
       "      <td>NaN</td>\n",
       "      <td>NaN</td>\n",
       "      <td>NaN</td>\n",
       "      <td>17.0</td>\n",
       "      <td>10.0</td>\n",
       "      <td>...</td>\n",
       "      <td>2.0</td>\n",
       "      <td>9.0</td>\n",
       "      <td>9.0</td>\n",
       "      <td>6.0</td>\n",
       "      <td>3.0</td>\n",
       "      <td>9.0</td>\n",
       "      <td>2.0</td>\n",
       "      <td>5</td>\n",
       "      <td>2</td>\n",
       "      <td>3</td>\n",
       "    </tr>\n",
       "    <tr>\n",
       "      <th>3</th>\n",
       "      <td>910226</td>\n",
       "      <td>2</td>\n",
       "      <td>1.0</td>\n",
       "      <td>13.0</td>\n",
       "      <td>NaN</td>\n",
       "      <td>NaN</td>\n",
       "      <td>NaN</td>\n",
       "      <td>NaN</td>\n",
       "      <td>13.0</td>\n",
       "      <td>1.0</td>\n",
       "      <td>...</td>\n",
       "      <td>0.0</td>\n",
       "      <td>7.0</td>\n",
       "      <td>10.0</td>\n",
       "      <td>11.0</td>\n",
       "      <td>NaN</td>\n",
       "      <td>9.0</td>\n",
       "      <td>7.0</td>\n",
       "      <td>3</td>\n",
       "      <td>2</td>\n",
       "      <td>4</td>\n",
       "    </tr>\n",
       "    <tr>\n",
       "      <th>4</th>\n",
       "      <td>910241</td>\n",
       "      <td>-1</td>\n",
       "      <td>1.0</td>\n",
       "      <td>20.0</td>\n",
       "      <td>NaN</td>\n",
       "      <td>NaN</td>\n",
       "      <td>NaN</td>\n",
       "      <td>NaN</td>\n",
       "      <td>14.0</td>\n",
       "      <td>3.0</td>\n",
       "      <td>...</td>\n",
       "      <td>2.0</td>\n",
       "      <td>3.0</td>\n",
       "      <td>5.0</td>\n",
       "      <td>4.0</td>\n",
       "      <td>2.0</td>\n",
       "      <td>9.0</td>\n",
       "      <td>3.0</td>\n",
       "      <td>4</td>\n",
       "      <td>1</td>\n",
       "      <td>3</td>\n",
       "    </tr>\n",
       "  </tbody>\n",
       "</table>\n",
       "<p>5 rows × 366 columns</p>\n",
       "</div>"
      ],
      "text/plain": [
       "      LNR  AGER_TYP  AKT_DAT_KL  ALTER_HH  ALTER_KIND1  ALTER_KIND2  \\\n",
       "0  910215        -1         NaN       NaN          NaN          NaN   \n",
       "1  910220        -1         9.0       0.0          NaN          NaN   \n",
       "2  910225        -1         9.0      17.0          NaN          NaN   \n",
       "3  910226         2         1.0      13.0          NaN          NaN   \n",
       "4  910241        -1         1.0      20.0          NaN          NaN   \n",
       "\n",
       "   ALTER_KIND3  ALTER_KIND4  ALTERSKATEGORIE_FEIN  ANZ_HAUSHALTE_AKTIV  \\\n",
       "0          NaN          NaN                   NaN                  NaN   \n",
       "1          NaN          NaN                  21.0                 11.0   \n",
       "2          NaN          NaN                  17.0                 10.0   \n",
       "3          NaN          NaN                  13.0                  1.0   \n",
       "4          NaN          NaN                  14.0                  3.0   \n",
       "\n",
       "          ...           VHN  VK_DHT4A  VK_DISTANZ  VK_ZG11  W_KEIT_KIND_HH  \\\n",
       "0         ...           NaN       NaN         NaN      NaN             NaN   \n",
       "1         ...           4.0       8.0        11.0     10.0             3.0   \n",
       "2         ...           2.0       9.0         9.0      6.0             3.0   \n",
       "3         ...           0.0       7.0        10.0     11.0             NaN   \n",
       "4         ...           2.0       3.0         5.0      4.0             2.0   \n",
       "\n",
       "   WOHNDAUER_2008  WOHNLAGE ZABEOTYP ANREDE_KZ ALTERSKATEGORIE_GROB  \n",
       "0             NaN       NaN        3         1                    2  \n",
       "1             9.0       4.0        5         2                    1  \n",
       "2             9.0       2.0        5         2                    3  \n",
       "3             9.0       7.0        3         2                    4  \n",
       "4             9.0       3.0        4         1                    3  \n",
       "\n",
       "[5 rows x 366 columns]"
      ]
     },
     "execution_count": 4,
     "metadata": {},
     "output_type": "execute_result"
    }
   ],
   "source": [
    "azdias_all.head()"
   ]
  },
  {
   "cell_type": "code",
   "execution_count": 5,
   "metadata": {},
   "outputs": [],
   "source": [
    "# We sample part of the data, because we want to reduce the computation time\n",
    "azdias = azdias_all.sample(frac=0.25, replace=False, random_state=42)\n",
    "azdias_copy = azdias.copy(deep=True)"
   ]
  },
  {
   "cell_type": "code",
   "execution_count": 6,
   "metadata": {},
   "outputs": [
    {
     "data": {
      "text/plain": [
       "(222805, 366)"
      ]
     },
     "execution_count": 6,
     "metadata": {},
     "output_type": "execute_result"
    }
   ],
   "source": [
    "azdias.shape"
   ]
  },
  {
   "cell_type": "markdown",
   "metadata": {},
   "source": [
    "## Part 1: Preprocessing\n",
    "\n",
    "### 1.1 Assess missing data in each column"
   ]
  },
  {
   "cell_type": "markdown",
   "metadata": {},
   "source": [
    "We calculate the NaN values in each column and plot the percentage of missing values per column in a bar plot. The plot shows that most of the features have less than 40% of missing values, and therefore decide to drop all the columns with missing values over this threshold."
   ]
  },
  {
   "cell_type": "code",
   "execution_count": 7,
   "metadata": {},
   "outputs": [
    {
     "data": {
      "text/html": [
       "<div>\n",
       "<style scoped>\n",
       "    .dataframe tbody tr th:only-of-type {\n",
       "        vertical-align: middle;\n",
       "    }\n",
       "\n",
       "    .dataframe tbody tr th {\n",
       "        vertical-align: top;\n",
       "    }\n",
       "\n",
       "    .dataframe thead th {\n",
       "        text-align: right;\n",
       "    }\n",
       "</style>\n",
       "<table border=\"1\" class=\"dataframe\">\n",
       "  <thead>\n",
       "    <tr style=\"text-align: right;\">\n",
       "      <th></th>\n",
       "      <th>% of missing values</th>\n",
       "    </tr>\n",
       "  </thead>\n",
       "  <tbody>\n",
       "    <tr>\n",
       "      <th>count</th>\n",
       "      <td>366.000000</td>\n",
       "    </tr>\n",
       "    <tr>\n",
       "      <th>mean</th>\n",
       "      <td>0.102908</td>\n",
       "    </tr>\n",
       "    <tr>\n",
       "      <th>std</th>\n",
       "      <td>0.121675</td>\n",
       "    </tr>\n",
       "    <tr>\n",
       "      <th>min</th>\n",
       "      <td>0.000000</td>\n",
       "    </tr>\n",
       "    <tr>\n",
       "      <th>25%</th>\n",
       "      <td>0.000000</td>\n",
       "    </tr>\n",
       "    <tr>\n",
       "      <th>50%</th>\n",
       "      <td>0.119364</td>\n",
       "    </tr>\n",
       "    <tr>\n",
       "      <th>75%</th>\n",
       "      <td>0.120496</td>\n",
       "    </tr>\n",
       "    <tr>\n",
       "      <th>max</th>\n",
       "      <td>0.998748</td>\n",
       "    </tr>\n",
       "  </tbody>\n",
       "</table>\n",
       "</div>"
      ],
      "text/plain": [
       "       % of missing values\n",
       "count           366.000000\n",
       "mean              0.102908\n",
       "std               0.121675\n",
       "min               0.000000\n",
       "25%               0.000000\n",
       "50%               0.119364\n",
       "75%               0.120496\n",
       "max               0.998748"
      ]
     },
     "metadata": {},
     "output_type": "display_data"
    }
   ],
   "source": [
    "# How many nans are present in each column of the dataset\n",
    "stats_col_df = pd.DataFrame(azdias.isnull().sum(axis=0)/azdias.shape[0],columns=['% of missing values'])\n",
    "\n",
    "display(stats_col_df.describe())"
   ]
  },
  {
   "cell_type": "code",
   "execution_count": 8,
   "metadata": {
    "scrolled": true
   },
   "outputs": [
    {
     "data": {
      "image/png": "[encoded data removed]",
      "text/plain": [
       "<Figure size 432x288 with 1 Axes>"
      ]
     },
     "metadata": {
      "needs_background": "light"
     },
     "output_type": "display_data"
    }
   ],
   "source": [
    "# Plot the amount of missing data in each column.\n",
    "miss_data_col = stats_col_df['% of missing values']\n",
    "plt.figure(figsize=(6,4))\n",
    "\n",
    "sns.histplot(miss_data_col, bins= 20)\n",
    "#plt.hist(miss_data_col, bins=100)\n",
    "plt.xlabel('% of missing values')\n",
    "plt.show()"
   ]
  },
  {
   "cell_type": "code",
   "execution_count": 9,
   "metadata": {},
   "outputs": [],
   "source": [
    "# Keep the columns that have less than 40% of missing values\n",
    "keep_cols = list(stats_col_df[stats_col_df['% of missing values'] <= 0.4].index)\n",
    "azdias_reduced = azdias[keep_cols]"
   ]
  },
  {
   "cell_type": "markdown",
   "metadata": {},
   "source": [
    "After dropping the outlier columns, we confirm the names of the columns dropped by using the set difference of the column names of the original and reduced dataset. There are 6 columns dropped with the names: 'ALTER_KIND1', 'ALTER_KIND2', 'ALTER_KIND3',  'ALTER_KIND4', 'EXTSEL992', 'KK_KUNDENTYP'."
   ]
  },
  {
   "cell_type": "code",
   "execution_count": 10,
   "metadata": {},
   "outputs": [
    {
     "data": {
      "text/plain": [
       "{'ALTER_KIND1',\n",
       " 'ALTER_KIND2',\n",
       " 'ALTER_KIND3',\n",
       " 'ALTER_KIND4',\n",
       " 'EXTSEL992',\n",
       " 'KK_KUNDENTYP'}"
      ]
     },
     "execution_count": 10,
     "metadata": {},
     "output_type": "execute_result"
    }
   ],
   "source": [
    "# Print the dropped columns\n",
    "set(azdias.columns) - set(keep_cols)"
   ]
  },
  {
   "cell_type": "markdown",
   "metadata": {},
   "source": [
    "### 1.2 Assess missing data in each row"
   ]
  },
  {
   "cell_type": "markdown",
   "metadata": {},
   "source": [
    "After having removed the outlier columns, we assess the missing values in each row. We calculate the Nan values in each row and plot the percentage of missing values per column."
   ]
  },
  {
   "cell_type": "code",
   "execution_count": 11,
   "metadata": {},
   "outputs": [
    {
     "data": {
      "text/html": [
       "<div>\n",
       "<style scoped>\n",
       "    .dataframe tbody tr th:only-of-type {\n",
       "        vertical-align: middle;\n",
       "    }\n",
       "\n",
       "    .dataframe tbody tr th {\n",
       "        vertical-align: top;\n",
       "    }\n",
       "\n",
       "    .dataframe thead th {\n",
       "        text-align: right;\n",
       "    }\n",
       "</style>\n",
       "<table border=\"1\" class=\"dataframe\">\n",
       "  <thead>\n",
       "    <tr style=\"text-align: right;\">\n",
       "      <th></th>\n",
       "      <th>% of missing values</th>\n",
       "    </tr>\n",
       "  </thead>\n",
       "  <tbody>\n",
       "    <tr>\n",
       "      <th>count</th>\n",
       "      <td>222805.000000</td>\n",
       "    </tr>\n",
       "    <tr>\n",
       "      <th>mean</th>\n",
       "      <td>0.102908</td>\n",
       "    </tr>\n",
       "    <tr>\n",
       "      <th>std</th>\n",
       "      <td>0.206074</td>\n",
       "    </tr>\n",
       "    <tr>\n",
       "      <th>min</th>\n",
       "      <td>0.000000</td>\n",
       "    </tr>\n",
       "    <tr>\n",
       "      <th>25%</th>\n",
       "      <td>0.013661</td>\n",
       "    </tr>\n",
       "    <tr>\n",
       "      <th>50%</th>\n",
       "      <td>0.016393</td>\n",
       "    </tr>\n",
       "    <tr>\n",
       "      <th>75%</th>\n",
       "      <td>0.043716</td>\n",
       "    </tr>\n",
       "    <tr>\n",
       "      <th>max</th>\n",
       "      <td>0.707650</td>\n",
       "    </tr>\n",
       "  </tbody>\n",
       "</table>\n",
       "</div>"
      ],
      "text/plain": [
       "       % of missing values\n",
       "count        222805.000000\n",
       "mean              0.102908\n",
       "std               0.206074\n",
       "min               0.000000\n",
       "25%               0.013661\n",
       "50%               0.016393\n",
       "75%               0.043716\n",
       "max               0.707650"
      ]
     },
     "metadata": {},
     "output_type": "display_data"
    }
   ],
   "source": [
    "# How many nans are present in each row of the dataset\n",
    "stats_row_df = pd.DataFrame(azdias.isnull().sum(axis=1)/azdias.shape[1],columns=['% of missing values'])\n",
    "\n",
    "display(stats_row_df.describe())"
   ]
  },
  {
   "cell_type": "markdown",
   "metadata": {},
   "source": [
    "From the plot below, we observe that most of the rows have less than 40% of missing values, and we drop all the columns with missing values over this threshold."
   ]
  },
  {
   "cell_type": "code",
   "execution_count": 12,
   "metadata": {},
   "outputs": [
    {
     "data": {
      "image/png": "[encoded data removed]",
      "text/plain": [
       "<Figure size 432x288 with 1 Axes>"
      ]
     },
     "metadata": {
      "needs_background": "light"
     },
     "output_type": "display_data"
    }
   ],
   "source": [
    "# Plot the amount of missing data in each row.\n",
    "miss_data_row = stats_row_df['% of missing values']\n",
    "sns.histplot(miss_data_row, bins=20)\n",
    "plt.xlabel('% of missing values')\n",
    "plt.show()"
   ]
  },
  {
   "cell_type": "code",
   "execution_count": 13,
   "metadata": {},
   "outputs": [
    {
     "name": "stdout",
     "output_type": "stream",
     "text": [
      "(24902, 360)\n",
      "(197903, 360)\n"
     ]
    }
   ],
   "source": [
    "# Write code to divide the data into two subsets based on the number of missing\n",
    "# values in each row.\n",
    "azdias_mm = azdias_reduced[stats_row_df['% of missing values']>0.40]\n",
    "azdias_fm = azdias_reduced[stats_row_df['% of missing values']<=0.40]\n",
    "print(azdias_mm.shape)\n",
    "print(azdias_fm.shape)"
   ]
  },
  {
   "cell_type": "code",
   "execution_count": 14,
   "metadata": {},
   "outputs": [],
   "source": [
    "# Compare the distribution of values for at least five columns where there are\n",
    "# no or few missing values, between the two subsets.\n",
    "\n",
    "#fig = plt.figure(figsize=(26,10))\n",
    "#col_list = ['ALTERSKATEGORIE_GROB','FINANZTYP','FINANZ_VORSORGER','LP_STATUS_FEIN','HH_EINKOMMEN_SCORE','ANREDE_KZ']\n",
    "##sns.color_palette(\"pastel\", desat=0.9)\n",
    "#sns.set_palette('Set2')\n",
    "#for i,col in enumerate(col_list):\n",
    "#    plt.subplot(2, len(col_list), i+1)\n",
    "#    sns.countplot(azdias_mm[col])\n",
    "#    plt.subplot(2, len(col_list), i+len(col_list)+1)\n",
    "#    sns.countplot(azdias_fm[col])"
   ]
  },
  {
   "cell_type": "markdown",
   "metadata": {},
   "source": [
    "### 1.3 Fix the data type error"
   ]
  },
  {
   "cell_type": "markdown",
   "metadata": {},
   "source": [
    "We get the name of the columns with the datatype error and check the unique values in each column. We observe that the affected columns are 'CAMEO_DEUG_2015' and 'CAMEO_INTL_2015'. Column 'CAMEO_DEUG_2015' apart from the numerical and NaN values contains the character 'X', whereas column 'CAMEO_INTL_2015' contains the character 'XX'."
   ]
  },
  {
   "cell_type": "code",
   "execution_count": 15,
   "metadata": {},
   "outputs": [
    {
     "name": "stdout",
     "output_type": "stream",
     "text": [
      "Index(['CAMEO_DEUG_2015', 'CAMEO_INTL_2015'], dtype='object')\n"
     ]
    }
   ],
   "source": [
    "# Print the name of the columns with the datatype error\n",
    "print(azdias.iloc[:,18:20].columns)"
   ]
  },
  {
   "cell_type": "code",
   "execution_count": 16,
   "metadata": {},
   "outputs": [
    {
     "data": {
      "text/plain": [
       "array(['9', 4.0, '4', 3.0, nan, 9.0, '2', '8', 2.0, '1', '7', '5', 8.0,\n",
       "       7.0, '3', '6', 6.0, 5.0, 1.0, 'X'], dtype=object)"
      ]
     },
     "metadata": {},
     "output_type": "display_data"
    },
    {
     "data": {
      "text/plain": [
       "array(['51', 24.0, '24', 23.0, nan, 51.0, '13', '55', 13.0, '15', '14',\n",
       "       '12', '41', '34', '52', 54.0, '25', '43', 14.0, 22.0, '54', '22',\n",
       "       12.0, '35', 43.0, '44', 44.0, '23', 55.0, 25.0, 41.0, '31', 45.0,\n",
       "       32.0, '45', 15.0, 34.0, 33.0, 35.0, 52.0, '32', 31.0, 'XX', '33'],\n",
       "      dtype=object)"
      ]
     },
     "metadata": {},
     "output_type": "display_data"
    }
   ],
   "source": [
    "# Print the unique values of the columns with the datatype error\n",
    "display(azdias_copy.iloc[:,18].unique(), azdias_copy.iloc[:,19].unique())"
   ]
  },
  {
   "cell_type": "code",
   "execution_count": 17,
   "metadata": {},
   "outputs": [],
   "source": [
    "# Replace the characters with Nan and convert the values into numerical values\n",
    "convert_dict = {'CAMEO_DEUG_2015': float, 'CAMEO_INTL_2015': float}\n",
    "\n",
    "azdias.iloc[:,17:20] = azdias.iloc[:,17:20].replace(['X','XX'], np.NaN)\n",
    "azdias = azdias.astype(convert_dict)"
   ]
  },
  {
   "cell_type": "markdown",
   "metadata": {},
   "source": [
    "### 1.4 Handle categorical values"
   ]
  },
  {
   "cell_type": "markdown",
   "metadata": {},
   "source": [
    "Next, we print the columns which still contain non-numerical values. These are the columns 'CAMEO_DEU_2015',\t'D19_LETZTER_KAUF_BRANCHE',\t'EINGEFUEGT_AM', and 'OST_WEST_KZ'."
   ]
  },
  {
   "cell_type": "code",
   "execution_count": 18,
   "metadata": {},
   "outputs": [
    {
     "data": {
      "text/html": [
       "<div>\n",
       "<style scoped>\n",
       "    .dataframe tbody tr th:only-of-type {\n",
       "        vertical-align: middle;\n",
       "    }\n",
       "\n",
       "    .dataframe tbody tr th {\n",
       "        vertical-align: top;\n",
       "    }\n",
       "\n",
       "    .dataframe thead th {\n",
       "        text-align: right;\n",
       "    }\n",
       "</style>\n",
       "<table border=\"1\" class=\"dataframe\">\n",
       "  <thead>\n",
       "    <tr style=\"text-align: right;\">\n",
       "      <th></th>\n",
       "      <th>CAMEO_DEU_2015</th>\n",
       "      <th>D19_LETZTER_KAUF_BRANCHE</th>\n",
       "      <th>EINGEFUEGT_AM</th>\n",
       "      <th>OST_WEST_KZ</th>\n",
       "    </tr>\n",
       "  </thead>\n",
       "  <tbody>\n",
       "    <tr>\n",
       "      <th>848815</th>\n",
       "      <td>9B</td>\n",
       "      <td>D19_UNBEKANNT</td>\n",
       "      <td>1992-02-12 00:00:00</td>\n",
       "      <td>W</td>\n",
       "    </tr>\n",
       "    <tr>\n",
       "      <th>299816</th>\n",
       "      <td>4C</td>\n",
       "      <td>D19_BANKEN_DIREKT</td>\n",
       "      <td>1992-02-10 00:00:00</td>\n",
       "      <td>W</td>\n",
       "    </tr>\n",
       "    <tr>\n",
       "      <th>570748</th>\n",
       "      <td>4C</td>\n",
       "      <td>NaN</td>\n",
       "      <td>1994-08-30 00:00:00</td>\n",
       "      <td>W</td>\n",
       "    </tr>\n",
       "    <tr>\n",
       "      <th>354371</th>\n",
       "      <td>3A</td>\n",
       "      <td>D19_VERSICHERUNGEN</td>\n",
       "      <td>2005-10-11 00:00:00</td>\n",
       "      <td>W</td>\n",
       "    </tr>\n",
       "    <tr>\n",
       "      <th>329018</th>\n",
       "      <td>NaN</td>\n",
       "      <td>NaN</td>\n",
       "      <td>NaN</td>\n",
       "      <td>NaN</td>\n",
       "    </tr>\n",
       "  </tbody>\n",
       "</table>\n",
       "</div>"
      ],
      "text/plain": [
       "       CAMEO_DEU_2015 D19_LETZTER_KAUF_BRANCHE        EINGEFUEGT_AM  \\\n",
       "848815             9B            D19_UNBEKANNT  1992-02-12 00:00:00   \n",
       "299816             4C        D19_BANKEN_DIREKT  1992-02-10 00:00:00   \n",
       "570748             4C                      NaN  1994-08-30 00:00:00   \n",
       "354371             3A       D19_VERSICHERUNGEN  2005-10-11 00:00:00   \n",
       "329018            NaN                      NaN                  NaN   \n",
       "\n",
       "       OST_WEST_KZ  \n",
       "848815           W  \n",
       "299816           W  \n",
       "570748           W  \n",
       "354371           W  \n",
       "329018         NaN  "
      ]
     },
     "execution_count": 18,
     "metadata": {},
     "output_type": "execute_result"
    }
   ],
   "source": [
    "# Print the columns that contain non numerical values\n",
    "azdias.select_dtypes(exclude=['number']).head()"
   ]
  },
  {
   "cell_type": "markdown",
   "metadata": {},
   "source": [
    "The column \"CAMEO_DEU_2015\" contains values with 2 digits, one numerical digit (1–9) and one alphabetical digit (A-E). Each digit represents a different category, therefore we split the column into 2 columns and re-encode the alphabetical digits to numerical values. Some columns also contain the value 'XX' which similar to above, we replace with NaN."
   ]
  },
  {
   "cell_type": "code",
   "execution_count": 19,
   "metadata": {},
   "outputs": [],
   "source": [
    "# Replace \"CAMEO_DEU_2015\" categorical values with new variables\n",
    "\n",
    "def first_dg_dict(x):\n",
    "    '''\n",
    "    Returns the first letter of a string\n",
    "    \n",
    "    INPUT: \n",
    "        x - the string which we want to split\n",
    "            \n",
    "    OUTPUT:\n",
    "        The first letter of the string\n",
    "    '''\n",
    "    if pd.isnull(x) or 'XX':\n",
    "        return np.nan\n",
    "    else:\n",
    "        return int(str(x)[0])\n",
    "    \n",
    "def second_dg_dict(x):\n",
    "    '''\n",
    "    Returns the second letter of a string\n",
    "    \n",
    "    INPUT: \n",
    "        x - the string which we want to split\n",
    "            \n",
    "    OUTPUT:\n",
    "        The second letter of the string\n",
    "    '''\n",
    "    if pd.isnull(x) or 'XX':\n",
    "        return np.nan\n",
    "    else:\n",
    "        return str(x)[1]\n",
    "    \n",
    "\n",
    "azdias['CAMEO_DEU_2015'] = azdias['CAMEO_DEU_2015'].apply(first_dg_dict)\n",
    "azdias['CAMEO_DEU_2015'] = azdias['CAMEO_DEU_2015'].apply(second_dg_dict)"
   ]
  },
  {
   "cell_type": "markdown",
   "metadata": {},
   "source": [
    "The column \"OST_WEST_KZ\" indicates whether the person lives in East(O) or West(W) Germany. To convert the column into numerical we replace O and W with 0 and 1 respectively."
   ]
  },
  {
   "cell_type": "code",
   "execution_count": 20,
   "metadata": {},
   "outputs": [],
   "source": [
    "replace_dict = {'O': 0,'W': 1}\n",
    "azdias['OST_WEST_KZ'] = azdias['OST_WEST_KZ'].replace(replace_dict)"
   ]
  },
  {
   "cell_type": "markdown",
   "metadata": {},
   "source": [
    "Finally, we drop the columns \"D19_LETZTER_KAUF_BRANCHE\" and \"EINGEFUEGT_AM\", because from the title description we conclude they are not relevant to the problem we are trying to solve."
   ]
  },
  {
   "cell_type": "code",
   "execution_count": 21,
   "metadata": {},
   "outputs": [],
   "source": [
    "azdias.drop(columns=['D19_LETZTER_KAUF_BRANCHE','EINGEFUEGT_AM', 'LNR'],inplace=True)"
   ]
  },
  {
   "cell_type": "markdown",
   "metadata": {},
   "source": [
    "### 1.5 Create a data cleaning function"
   ]
  },
  {
   "cell_type": "markdown",
   "metadata": {},
   "source": [
    "We create a function to perform the steps above, because we want to apply the preprocessing steps to the customers dataset in the next step."
   ]
  },
  {
   "cell_type": "code",
   "execution_count": 28,
   "metadata": {},
   "outputs": [],
   "source": [
    "def first_dg_dict(x):\n",
    "    '''\n",
    "    Returns the first letter of a string\n",
    "    \n",
    "    INPUT: \n",
    "        x - the string which we want to split\n",
    "            \n",
    "    OUTPUT:\n",
    "        The first letter of the string\n",
    "    '''\n",
    "    \n",
    "    if pd.isnull(x) or 'XX':\n",
    "        return np.nan\n",
    "    else:\n",
    "        return int(str(x)[0])\n",
    "    \n",
    "def second_dg_dict(x):\n",
    "    '''\n",
    "    Returns the second letter of a string\n",
    "    \n",
    "    INPUT: \n",
    "        x - the string which we want to split\n",
    "            \n",
    "    OUTPUT:\n",
    "        The second letter of the string\n",
    "    '''\n",
    "    \n",
    "    if pd.isnull(x) or 'XX':\n",
    "        return np.nan\n",
    "    else:\n",
    "        return str(x)[1]\n",
    "    \n",
    "def convert_letters(x):\n",
    "    '''\n",
    "    Maps the alphabetical digits to numerical values.\n",
    "    \n",
    "    INPUT: \n",
    "        x - the string which we want to convert\n",
    "            \n",
    "    OUTPUT:\n",
    "        The numerical value as per the mapping dictionary\n",
    "    '''\n",
    "    \n",
    "    cameo_dict =   {'A': 1,'B': 2,'C': 3,'D': 4,'E': 5}\n",
    "    \n",
    "    if x in  cameo_dict.keys():\n",
    "        return cameo_dict[x]\n",
    "    else:\n",
    "        return np.nan\n",
    "\n",
    "    \n",
    "def data_stats_column(df):\n",
    "    '''\n",
    "    Computes the percentage of missing values in each column\n",
    "    \n",
    "    INPUT: \n",
    "        df - the dataframe for which we want to compute the missing values\n",
    "            \n",
    "    OUTPUT:\n",
    "        ds - a new dataframe containing the percentage of missing values in each column of df\n",
    "    '''\n",
    "    \n",
    "    ds = pd.DataFrame(df.isnull().sum(axis=0)/df.shape[0],columns=['% of missing values'])\n",
    "    return ds\n",
    "\n",
    "def data_stats_row(df):\n",
    "    '''\n",
    "    Computes the percentage of missing values in each row\n",
    "    \n",
    "    INPUT: \n",
    "        df - the dataframe for which we want to compute the missing values\n",
    "            \n",
    "    OUTPUT:\n",
    "        ds - a new dataframe containing the percentage of missing values in each row of df\n",
    "    '''\n",
    "    \n",
    "    ds = pd.DataFrame(df.isnull().sum(axis=1)/df.shape[1],columns=['% of missing values'])\n",
    "    return ds\n",
    "\n",
    "def plot_stats_column(df):    \n",
    "    '''\n",
    "    Runs the data_stats_column() function and plots a histogram plot with the percentage of missing value for each column\n",
    "    \n",
    "    INPUT: \n",
    "        df - the dataframe for which we want to plot the missing values\n",
    "        \n",
    "    '''\n",
    "    \n",
    "    miss_data_col = data_stats_column(df)['% of missing values']\n",
    "    plt.hist(miss_data_col, bins=20)\n",
    "    plt.xlabel('% of missing values')\n",
    "    plt.show()\n",
    "    \n",
    "def plot_stats_row(df):    \n",
    "    '''\n",
    "    Runs the data_stats_row() function and plots a histogram plot with the percentage of missing value for each column\n",
    "    \n",
    "    INPUT: \n",
    "        df - the dataframe for which we want to plot the missing values\n",
    "        \n",
    "    '''\n",
    "    \n",
    "    miss_data_row = data_stats_row(df)['% of missing values']\n",
    "    plt.hist(miss_data_row, bins=20)\n",
    "    plt.xlabel('% of missing values')\n",
    "    plt.show()\n",
    "    \n",
    "def clean_data(df):\n",
    "    '''\n",
    "    Returns a dataframe with numerical values and cleaned from the outlier columns and rows.\n",
    "    \n",
    "    INPUT: \n",
    "        df - the original dataframe with mixed type columns\n",
    "            \n",
    "    OUTPUT:\n",
    "        reduced_df - the new dataframe with numerical values and with oulier columns and rows removed.\n",
    "    '''\n",
    "    \n",
    "    convert_dict = {'CAMEO_DEUG_2015': float,'CAMEO_INTL_2015': float}\n",
    "    germ_dict = {'O': 0,'W': 1}\n",
    "    \n",
    "    # fix the data type error\n",
    "    df.iloc[:,17:20] = df.iloc[:,18:20].replace(['X','XX'], np.NaN)\n",
    "    df = df.astype(convert_dict)\n",
    "    \n",
    "    # drop not relevant columns\n",
    "    df.drop(columns=['D19_LETZTER_KAUF_BRANCHE','EINGEFUEGT_AM', 'LNR'],inplace=True)\n",
    "    \n",
    "    # Replace \"CAMEO_DEU_2015\" categorical values with new variables.\n",
    "    df['CAMEO_DEU_2015_first_dg'] = df['CAMEO_DEU_2015'].apply(first_dg_dict)\n",
    "    df['CAMEO_DEU_2015_second_dg'] = df['CAMEO_DEU_2015'].apply(second_dg_dict)\n",
    "    df['CAMEO_DEU_2015_second_dg'] = df['CAMEO_DEU_2015_second_dg'].apply(convert_letters)\n",
    "    \n",
    "    df.drop(columns=['CAMEO_DEU_2015'],inplace=True)\n",
    "\n",
    "    # Re-encode \"Ost\", \"West\" values with 0s and 1s.\n",
    "    df['OST_WEST_KZ'] = df['OST_WEST_KZ'].replace(germ_dict)\n",
    "    \n",
    "    # Asses missing data on each column\n",
    "    stats_col_df = data_stats_column(df)\n",
    "    keep_cols_ls = list(stats_col_df[stats_col_df['% of missing values'] <= 0.4].index)\n",
    "    reduced_df = df[keep_cols_ls]\n",
    "    \n",
    "    # Asses missing data on each row\n",
    "    stats_row_df = data_stats_row(reduced_df)\n",
    "    reduced_df = reduced_df[stats_row_df['% of missing values']<=0.40]\n",
    "    \n",
    "    return reduced_df\n",
    "\n",
    "\n",
    "azdias = azdias_copy\n",
    "azdias_reduced = clean_data(azdias)\n",
    "#plot_stats_column(azdias)  \n",
    "#plot_stats_row(azdias)  \n"
   ]
  },
  {
   "cell_type": "markdown",
   "metadata": {},
   "source": [
    "## Part 2: Customer Segmentation Report\n",
    "\n",
    "The main bulk of the analysis comes in this part of the project. Here, we use unsupervised learning techniques to describe the relationship between the demographics of the company's existing customers and the general population of Germany. By the end of this part, we will be able to describe parts of the general population that are more likely to be part of the mail-order company's main customer base, and which parts of the general population are less so."
   ]
  },
  {
   "cell_type": "markdown",
   "metadata": {},
   "source": [
    "### 2.1 Impute missing values"
   ]
  },
  {
   "cell_type": "code",
   "execution_count": 29,
   "metadata": {},
   "outputs": [
    {
     "data": {
      "text/plain": [
       "array([ 9.,  4.,  3.,  2.,  8.,  1.,  7.,  5.,  6., nan])"
      ]
     },
     "execution_count": 29,
     "metadata": {},
     "output_type": "execute_result"
    }
   ],
   "source": [
    "azdias_reduced.select_dtypes(exclude=['number']).head()\n",
    "azdias_reduced['CAMEO_DEUG_2015'].unique()"
   ]
  },
  {
   "cell_type": "code",
   "execution_count": 30,
   "metadata": {},
   "outputs": [],
   "source": [
    "# Impute missing values by replacing NaNs in a column with the most frequent value\n",
    "imputer = SimpleImputer(strategy='most_frequent')\n",
    "azdias_imputed = pd.DataFrame(imputer.fit_transform(azdias_reduced),columns = azdias_reduced.columns)\n",
    "azdias_imputed.index=azdias_reduced.index"
   ]
  },
  {
   "cell_type": "markdown",
   "metadata": {},
   "source": [
    "### 2.2 Scale and center the features"
   ]
  },
  {
   "cell_type": "code",
   "execution_count": 31,
   "metadata": {},
   "outputs": [],
   "source": [
    "# Standardize features by removing the mean and scaling to unit variance.\n",
    "scaler = StandardScaler()\n",
    "azdias_scaled = pd.DataFrame(scaler.fit_transform(azdias_imputed),columns = azdias_imputed.columns)\n",
    "azdias_scaled.index = azdias_imputed.index"
   ]
  },
  {
   "cell_type": "code",
   "execution_count": 32,
   "metadata": {},
   "outputs": [
    {
     "data": {
      "text/plain": [
       "(197909, 356)"
      ]
     },
     "execution_count": 32,
     "metadata": {},
     "output_type": "execute_result"
    }
   ],
   "source": [
    "azdias_scaled.shape"
   ]
  },
  {
   "cell_type": "markdown",
   "metadata": {},
   "source": [
    "### 2.3 Reduce dimensionality"
   ]
  },
  {
   "cell_type": "markdown",
   "metadata": {},
   "source": [
    "In this step, we apply singular value decomposition using the PCA transformer from sklearn, because we want to reduce the amount of features for the clustering algorithm. To explore how the explained variance is varying with the number of principal components we plot the cumulative explained variance against the number of components. We observe that XXX components account for 90% of the explained variance, hence we decide to drop the remaining components."
   ]
  },
  {
   "cell_type": "code",
   "execution_count": 33,
   "metadata": {},
   "outputs": [],
   "source": [
    "# Define the pca function to reuse in the customer data \n",
    "\n",
    "def apply_pca(n_comps, df):\n",
    "    '''\n",
    "    Returns a dataframe \n",
    "    \n",
    "    INPUT: \n",
    "        n_comps - the number of components for the pca analysis\n",
    "        df - a dataframe of shape (n_samples, n_features)\n",
    "            \n",
    "    OUTPUT:\n",
    "        pca_arr - an ndarray of shape (n_samples, n_components)\n",
    "        pca_df - a dataframe of shape (n_samples, n_components)\n",
    "    '''\n",
    "    \n",
    "    pca_model = PCA(n_comps)\n",
    "    pca_arr = pca_model.fit_transform(df)\n",
    "    pca_df = pd.DataFrame(data = pca_arr)\n",
    "    return pca_model, pca_df"
   ]
  },
  {
   "cell_type": "code",
   "execution_count": 34,
   "metadata": {},
   "outputs": [],
   "source": [
    "pca_model, pca_df =  apply_pca(azdias_scaled.shape[1],azdias_scaled)"
   ]
  },
  {
   "cell_type": "code",
   "execution_count": 36,
   "metadata": {},
   "outputs": [
    {
     "data": {
      "image/png": "[encoded data removed]",
      "text/plain": [
       "<Figure size 864x360 with 1 Axes>"
      ]
     },
     "metadata": {
      "needs_background": "light"
     },
     "output_type": "display_data"
    }
   ],
   "source": [
    "# Investigate the variance accounted for by each principal component.\n",
    "\n",
    "def plot_pca(pca_model):\n",
    "    '''\n",
    "    Creates a plot with variance explained by the principal components \n",
    "    \n",
    "    INPUT: pca_model - the pca model with the pricipal components\n",
    "            \n",
    "    OUTPUT:\n",
    "            None\n",
    "    '''\n",
    "    \n",
    "    num_components = len(pca_model.explained_variance_ratio_)\n",
    "    var_explained = pca_model.explained_variance_ratio_\n",
    "    plt.figure(figsize=(12, 5))\n",
    "    \n",
    "    ax = plt.subplot(111)\n",
    "    cumsum = np.cumsum(var_explained)\n",
    "    ax.plot(np.arange(num_components), cumsum)\n",
    "    \n",
    "    ax.xaxis.set_tick_params(width=1)\n",
    "    ax.yaxis.set_tick_params(width=1, length=2)\n",
    " \n",
    "    ax.set_xlabel(\"principal component\")\n",
    "    ax.set_ylabel(\"variance explained (%)\")\n",
    "    #plt.title('explained variance vs. number of principal components')\n",
    "    \n",
    "plot_pca(pca_model)"
   ]
  },
  {
   "cell_type": "code",
   "execution_count": 37,
   "metadata": {},
   "outputs": [],
   "source": [
    "num_components = len(pca_model.explained_variance_ratio_)\n",
    "vals = pca_model.explained_variance_ratio_\n",
    "cumvals = np.cumsum(vals)\n",
    "ind = np.arange(num_components)\n",
    "pca_df = pd.DataFrame(cumvals,ind)"
   ]
  },
  {
   "cell_type": "code",
   "execution_count": 38,
   "metadata": {},
   "outputs": [
    {
     "data": {
      "text/html": [
       "<div>\n",
       "<style scoped>\n",
       "    .dataframe tbody tr th:only-of-type {\n",
       "        vertical-align: middle;\n",
       "    }\n",
       "\n",
       "    .dataframe tbody tr th {\n",
       "        vertical-align: top;\n",
       "    }\n",
       "\n",
       "    .dataframe thead th {\n",
       "        text-align: right;\n",
       "    }\n",
       "</style>\n",
       "<table border=\"1\" class=\"dataframe\">\n",
       "  <thead>\n",
       "    <tr style=\"text-align: right;\">\n",
       "      <th></th>\n",
       "      <th>0</th>\n",
       "    </tr>\n",
       "  </thead>\n",
       "  <tbody>\n",
       "    <tr>\n",
       "      <th>168</th>\n",
       "      <td>0.900332</td>\n",
       "    </tr>\n",
       "  </tbody>\n",
       "</table>\n",
       "</div>"
      ],
      "text/plain": [
       "            0\n",
       "168  0.900332"
      ]
     },
     "execution_count": 38,
     "metadata": {},
     "output_type": "execute_result"
    }
   ],
   "source": [
    "# Get the number of components for variance explained > 0.9\n",
    "pca_df.loc[pca_df[0]>0.9].head(1)"
   ]
  },
  {
   "cell_type": "code",
   "execution_count": 39,
   "metadata": {},
   "outputs": [],
   "source": [
    "# Re-apply PCA to the data while selecting for number of components to retain.\n",
    "n = 168\n",
    "pca_red_model, pca_red_df = apply_pca(n, azdias_scaled)"
   ]
  },
  {
   "cell_type": "code",
   "execution_count": 52,
   "metadata": {},
   "outputs": [],
   "source": [
    "#Map components relations with features:\n",
    "pca_df = pd.DataFrame(pca_model.components_,columns=azdias_scaled.columns)\n",
    "\n",
    "# Return features with highest weights for each component\n",
    "def map_to_features(pca_df, pca_idx):        \n",
    "    '''\n",
    "    Returns the features with highest weights for each component\n",
    "    \n",
    "    INPUT: \n",
    "        pca_df - a dataframe containing an array of [n_components, n_features]\n",
    "        pca_idx - the index of the nth component for which we want to recover the features\n",
    "            \n",
    "    OUTPUT:\n",
    "        The top 5 features with the highest association with the nth component\n",
    "    '''\n",
    "\n",
    "    sorted_df = pca_df.iloc[pca_idx].abs().sort_values(ascending=False)\n",
    "    \n",
    "    return sorted_df.head(5)"
   ]
  },
  {
   "cell_type": "code",
   "execution_count": 53,
   "metadata": {},
   "outputs": [
    {
     "data": {
      "text/plain": [
       "KBA13_ANTG1       0.120841\n",
       "PLZ8_ANTG1        0.120785\n",
       "KBA13_ANTG3       0.120125\n",
       "LP_STATUS_FEIN    0.119712\n",
       "PLZ8_ANTG3        0.119652\n",
       "Name: 0, dtype: float64"
      ]
     },
     "metadata": {},
     "output_type": "display_data"
    }
   ],
   "source": [
    "# Return the top features for the 1st principal component\n",
    "top_feats = map_to_features(pca_df, pca_idx=0)\n",
    "display(top_feats)"
   ]
  },
  {
   "cell_type": "markdown",
   "metadata": {},
   "source": [
    "### 2.4 Clustering"
   ]
  },
  {
   "cell_type": "markdown",
   "metadata": {},
   "source": [
    "Finally, we perform clustering using K-Means. K-means is a general-purpose clustering algorithm that scales well to large number of samples. It takes as parameter the number of clusters (k) and clusters the data by trying to minize the distance of the points from the center of the cluster (centroid). To decide on the number of clusters we run k-means clustering on the dataset for a range of values for k (from 1–20). For each value of k we compute the distortion score, which is the sum of square distances from each point to its assigned center. By plotting the score for each model, it is possible to visually determine the best value for k."
   ]
  },
  {
   "cell_type": "code",
   "execution_count": 61,
   "metadata": {},
   "outputs": [],
   "source": [
    "k = 20\n",
    "scores = []\n",
    "centers = list(range(1, k+1))\n",
    "    \n",
    "for center in (centers):\n",
    "    kmeans = KMeans(n_clusters=center, random_state=42)\n",
    "    model = kmeans.fit(pca_red_df)\n",
    "    score = np.abs(model.score(pca_red_df))\n",
    "    scores.append(score)"
   ]
  },
  {
   "cell_type": "code",
   "execution_count": 62,
   "metadata": {},
   "outputs": [
    {
     "data": {
      "image/png": "[encoded data removed]",
      "text/plain": [
       "<Figure size 432x288 with 1 Axes>"
      ]
     },
     "metadata": {
      "needs_background": "light"
     },
     "output_type": "display_data"
    }
   ],
   "source": [
    "# Investigate the change in within-cluster distance across number of clusters.\n",
    "def elbow_plot(centers, scores):\n",
    "    \n",
    "    plt.plot(centers, scores, linestyle='--', marker='o');\n",
    "    plt.xlabel('number of clusters');\n",
    "    plt.ylabel('SSE');\n",
    "    plt.title('SSE vs. number of clusters');\n",
    "    \n",
    "elbow_plot(centers, scores)"
   ]
  },
  {
   "cell_type": "code",
   "execution_count": null,
   "metadata": {},
   "outputs": [],
   "source": [
    "n_clusters = 5"
   ]
  },
  {
   "cell_type": "code",
   "execution_count": 125,
   "metadata": {},
   "outputs": [],
   "source": [
    "# Re-fit the k-means model with the selected number of clusters and obtain\n",
    "# cluster predictions for the general population demographics data.\n",
    "kmeans = KMeans(n_clusters=n_clusters, n_init =4, random_state=132)\n",
    "azdias_labels = kmeans.fit_predict(pca_red_df)"
   ]
  },
  {
   "cell_type": "code",
   "execution_count": 129,
   "metadata": {},
   "outputs": [
    {
     "data": {
      "image/png": "[encoded data removed]",
      "text/plain": [
       "<Figure size 576x432 with 1 Axes>"
      ]
     },
     "metadata": {
      "needs_background": "light"
     },
     "output_type": "display_data"
    }
   ],
   "source": [
    "# Visualize the clusters using the 2 principal components\n",
    "labels = np.unique(azdias_labels)\n",
    "df = pd.DataFrame(azdias_labels)\n",
    "\n",
    "# Select the 2 principal components to plot\n",
    "pca_2_arr = pca_red_df.iloc[:,0:2].values\n",
    "\n",
    "plt.figure(figsize=(8, 6))\n",
    "\n",
    "for i in labels:\n",
    "    plt.scatter(pca_2_arr[df[0] == i , 0] , pca_2_arr[df[0] == i , 1] , label = i)\n",
    "\n",
    "plt.legend()\n",
    "plt.show()"
   ]
  },
  {
   "cell_type": "markdown",
   "metadata": {},
   "source": [
    "### 2.5 Apply steps to the customer dataset"
   ]
  },
  {
   "cell_type": "markdown",
   "metadata": {},
   "source": [
    "Now we are ready to run the steps above on the customers dataset, which we load from the file 'Udacity_CUSTOMERS_052018.csv'. The 'customers' dataframe contains 3 extra columns ('CUSTOMER_GROUP', 'ONLINE_PURCHASE', and 'PRODUCT_GROUP'). We will drop these columns for this part of the analysis."
   ]
  },
  {
   "cell_type": "code",
   "execution_count": null,
   "metadata": {},
   "outputs": [
    {
     "name": "stderr",
     "output_type": "stream",
     "text": [
      "/opt/conda/lib/python3.6/site-packages/IPython/core/interactiveshell.py:2785: DtypeWarning: Columns (18,19) have mixed types. Specify dtype option on import or set low_memory=False.\n",
      "  interactivity=interactivity, compiler=compiler, result=result)\n"
     ]
    }
   ],
   "source": [
    "# Load the customers dataset\n",
    "customers = pd.read_csv('../../data/Term2/capstone/arvato_data/Udacity_CUSTOMERS_052018.csv', sep=';')"
   ]
  },
  {
   "cell_type": "code",
   "execution_count": null,
   "metadata": {},
   "outputs": [],
   "source": [
    "# Get the set difference between the columns of the customers and general population dataset\n",
    "azdias_all.columns.symmetric_difference(customers.columns)"
   ]
  },
  {
   "cell_type": "code",
   "execution_count": null,
   "metadata": {},
   "outputs": [],
   "source": [
    "# Drop the 3 additional columns of the customers dataset\n",
    "customers = customers.drop(columns=['CUSTOMER_GROUP', 'ONLINE_PURCHASE', 'PRODUCT_GROUP'])"
   ]
  },
  {
   "cell_type": "code",
   "execution_count": 133,
   "metadata": {},
   "outputs": [],
   "source": [
    "# Apply the data cleaning steps from the general population dataset to the customers dataset\n",
    "customers_reduced = clean_data(customers)"
   ]
  },
  {
   "cell_type": "code",
   "execution_count": null,
   "metadata": {},
   "outputs": [],
   "source": [
    "#Perform data preprocessing for the clustering algorithm\n",
    "customers_imputed = pd.DataFrame(imputer.transform(customers_reduced),\n",
    "                                 columns = customers_reduced.columns,\n",
    "                                 index=customers_reduced.index)"
   ]
  },
  {
   "cell_type": "code",
   "execution_count": null,
   "metadata": {},
   "outputs": [],
   "source": [
    "#Scale the data using standard scaler\n",
    "customers_scaled = pd.DataFrame(scaler.transform(customers_imputed),\n",
    "                                 columns = customers_reduced.columns,\n",
    "                                 index=customers_reduced.index)"
   ]
  },
  {
   "cell_type": "code",
   "execution_count": null,
   "metadata": {},
   "outputs": [],
   "source": [
    "customers_scaled.head(5)"
   ]
  },
  {
   "cell_type": "code",
   "execution_count": 137,
   "metadata": {},
   "outputs": [],
   "source": [
    "#Apply PCA for dimensionality reduction\n",
    "pca_cust_model, pca_cust_df = apply_pca(168, customers_scaled)"
   ]
  },
  {
   "cell_type": "code",
   "execution_count": 138,
   "metadata": {},
   "outputs": [],
   "source": [
    "customer_clusters = kmeans.predict(pca_cust_df)"
   ]
  },
  {
   "cell_type": "markdown",
   "metadata": {},
   "source": [
    "### 2.6 Compare Customer Data to Demographics Data"
   ]
  },
  {
   "cell_type": "markdown",
   "metadata": {},
   "source": [
    "In this step, we want to identify if there are any differences between the relative population size assigned to each cluster in the general and customer datasets. Thus, we plot the relative size of samples on each cluster and compare the results. From the plot results we observe that there are some clusters where the customers population is over-represented compared to the general population. Hence, the individuals from the general population assigned to these clusters, are more likely to become new clients."
   ]
  },
  {
   "cell_type": "code",
   "execution_count": 144,
   "metadata": {},
   "outputs": [
    {
     "data": {
      "text/html": [
       "<div>\n",
       "<style scoped>\n",
       "    .dataframe tbody tr th:only-of-type {\n",
       "        vertical-align: middle;\n",
       "    }\n",
       "\n",
       "    .dataframe tbody tr th {\n",
       "        vertical-align: top;\n",
       "    }\n",
       "\n",
       "    .dataframe thead th {\n",
       "        text-align: right;\n",
       "    }\n",
       "</style>\n",
       "<table border=\"1\" class=\"dataframe\">\n",
       "  <thead>\n",
       "    <tr style=\"text-align: right;\">\n",
       "      <th></th>\n",
       "      <th>Cluster</th>\n",
       "      <th>GenPopulation</th>\n",
       "      <th>Customers</th>\n",
       "    </tr>\n",
       "  </thead>\n",
       "  <tbody>\n",
       "    <tr>\n",
       "      <th>0</th>\n",
       "      <td>0</td>\n",
       "      <td>48973</td>\n",
       "      <td>38341.0</td>\n",
       "    </tr>\n",
       "    <tr>\n",
       "      <th>1</th>\n",
       "      <td>1</td>\n",
       "      <td>54800</td>\n",
       "      <td>40955.0</td>\n",
       "    </tr>\n",
       "    <tr>\n",
       "      <th>2</th>\n",
       "      <td>2</td>\n",
       "      <td>3674</td>\n",
       "      <td>NaN</td>\n",
       "    </tr>\n",
       "    <tr>\n",
       "      <th>3</th>\n",
       "      <td>3</td>\n",
       "      <td>65561</td>\n",
       "      <td>58155.0</td>\n",
       "    </tr>\n",
       "    <tr>\n",
       "      <th>4</th>\n",
       "      <td>4</td>\n",
       "      <td>24901</td>\n",
       "      <td>3438.0</td>\n",
       "    </tr>\n",
       "  </tbody>\n",
       "</table>\n",
       "</div>"
      ],
      "text/plain": [
       "   Cluster  GenPopulation  Customers\n",
       "0        0          48973    38341.0\n",
       "1        1          54800    40955.0\n",
       "2        2           3674        NaN\n",
       "3        3          65561    58155.0\n",
       "4        4          24901     3438.0"
      ]
     },
     "execution_count": 144,
     "metadata": {},
     "output_type": "execute_result"
    }
   ],
   "source": [
    "cluster_df = pd.DataFrame([])\n",
    "\n",
    "cluster_df['GenPopulation'] = pd.Series(azdias_labels).value_counts().sort_index()\n",
    "cluster_df['Customers'] = pd.Series(customer_clusters).value_counts().sort_index()\n",
    "cluster_df.reset_index(inplace=True)\n",
    "cluster_df.rename(columns={'index':'Cluster'}, inplace=True)\n",
    "cluster_df"
   ]
  },
  {
   "cell_type": "code",
   "execution_count": 145,
   "metadata": {},
   "outputs": [],
   "source": [
    "cluster_df['GenPopulation(%)'] = (cluster_df['GenPopulation'] / (cluster_df['GenPopulation'].sum()) * 100).round(2)\n",
    "cluster_df['Customers(%)'] = (cluster_df['Customers'] / (cluster_df['Customers'].sum()) * 100).round(2)\n",
    "cluster_df.drop(columns=['GenPopulation','Customers'], inplace=True)"
   ]
  },
  {
   "cell_type": "code",
   "execution_count": 146,
   "metadata": {},
   "outputs": [
    {
     "data": {
      "image/png": "[encoded data removed]",
      "text/plain": [
       "<Figure size 576x360 with 1 Axes>"
      ]
     },
     "metadata": {
      "needs_background": "light"
     },
     "output_type": "display_data"
    }
   ],
   "source": [
    "fig, ax1 = plt.subplots(figsize=(8, 5))\n",
    "plot_df = cluster_df.melt(id_vars='Cluster').rename(columns=str.title)\n",
    "plot_df.fillna(0)\n",
    "a = sns.barplot(x='Cluster', y='Value', hue='Variable', data=plot_df)"
   ]
  },
  {
   "cell_type": "markdown",
   "metadata": {},
   "source": [
    "Discussion:\n",
    "We observe that there are some clusters where the customers population is overrepresented compared to the general population. It means, that for the population from these clusters, with higher confidence that they can become future customers."
   ]
  },
  {
   "cell_type": "markdown",
   "metadata": {},
   "source": [
    "## Part 3: Supervised Learning Model\n",
    "\n",
    "Now that we have found which parts of the population are more likely to be customers of the mail-order company, it's time to build a prediction model. Each of the rows in the \"MAILOUT\" data files represents an individual that was targeted for a mailout campaign. Ideally, we should be able to use the demographic information from each individual to decide whether or not it will be worth it to include that person in the campaign.\n",
    "\n",
    "The \"MAILOUT\" data has been split into two approximately equal parts, each with almost 43 000 data rows. In this part, you can verify your model with the \"TRAIN\" partition, which includes a column, \"RESPONSE\", that states whether or not a person became a customer of the company following the campaign. In the next part, you'll need to create predictions on the \"TEST\" partition, where the \"RESPONSE\" column has been withheld."
   ]
  },
  {
   "cell_type": "markdown",
   "metadata": {},
   "source": [
    "### 3.1 Load the training data"
   ]
  },
  {
   "cell_type": "code",
   "execution_count": 147,
   "metadata": {},
   "outputs": [
    {
     "name": "stderr",
     "output_type": "stream",
     "text": [
      "/opt/conda/lib/python3.6/site-packages/IPython/core/interactiveshell.py:2785: DtypeWarning: Columns (18,19) have mixed types. Specify dtype option on import or set low_memory=False.\n",
      "  interactivity=interactivity, compiler=compiler, result=result)\n"
     ]
    }
   ],
   "source": [
    "# Load the \"MAILOUT\" training dataset\n",
    "mailout_train = pd.read_csv('../../data/Term2/capstone/arvato_data/Udacity_MAILOUT_052018_TRAIN.csv', sep=';')"
   ]
  },
  {
   "cell_type": "code",
   "execution_count": 148,
   "metadata": {},
   "outputs": [
    {
     "data": {
      "text/plain": [
       "0    42430\n",
       "1      532\n",
       "Name: RESPONSE, dtype: int64"
      ]
     },
     "execution_count": 148,
     "metadata": {},
     "output_type": "execute_result"
    },
    {
     "data": {
      "image/png": "[encoded data removed]",
      "text/plain": [
       "<Figure size 432x288 with 1 Axes>"
      ]
     },
     "metadata": {
      "needs_background": "light"
     },
     "output_type": "display_data"
    }
   ],
   "source": [
    "ax = sns.countplot(x='RESPONSE', data=mailout_train)\n",
    "mailout_train['RESPONSE'].value_counts()"
   ]
  },
  {
   "cell_type": "code",
   "execution_count": 149,
   "metadata": {},
   "outputs": [
    {
     "data": {
      "text/plain": [
       "Index(['RESPONSE'], dtype='object')"
      ]
     },
     "execution_count": 149,
     "metadata": {},
     "output_type": "execute_result"
    }
   ],
   "source": [
    "azdias.columns.symmetric_difference(mailout_train.columns)"
   ]
  },
  {
   "cell_type": "markdown",
   "metadata": {},
   "source": [
    "### 3.2 Balance and clean the data"
   ]
  },
  {
   "cell_type": "markdown",
   "metadata": {},
   "source": [
    "We observe that the 2 classes in the \"RESPONSE\" column of the \"MAILOUT\" data are highly imbalance. Specifically, the number of data with response value 1 is much less (532) compared to the data with response 0 (42.430). To address the class imbalance, we use sklearn's resample function to balance the dataset for the further analysis."
   ]
  },
  {
   "cell_type": "code",
   "execution_count": 150,
   "metadata": {},
   "outputs": [
    {
     "data": {
      "text/plain": [
       "((42430, 367), (532, 367))"
      ]
     },
     "execution_count": 150,
     "metadata": {},
     "output_type": "execute_result"
    }
   ],
   "source": [
    "resp0 = mailout_train[mailout_train['RESPONSE']==0] \n",
    "resp1 = mailout_train[mailout_train['RESPONSE']==1]\n",
    "resp0.shape, resp1.shape"
   ]
  },
  {
   "cell_type": "code",
   "execution_count": 159,
   "metadata": {},
   "outputs": [],
   "source": [
    "# Balance the dataset\n",
    "resp1_bal = resample(resp1, replace=True, n_samples=42430, random_state=42)"
   ]
  },
  {
   "cell_type": "code",
   "execution_count": 160,
   "metadata": {},
   "outputs": [],
   "source": [
    "mailout_train_bal = pd.concat([resp0, resp1_bal])"
   ]
  },
  {
   "cell_type": "code",
   "execution_count": null,
   "metadata": {},
   "outputs": [],
   "source": [
    "# Shuffle the data after adding the new samples\n",
    "mailout_train_bal = mailout_train_bal.sample(frac=1)"
   ]
  },
  {
   "cell_type": "markdown",
   "metadata": {},
   "source": [
    "Next, we clean the data using the clean_data() function defined in section 1.5."
   ]
  },
  {
   "cell_type": "code",
   "execution_count": 161,
   "metadata": {},
   "outputs": [],
   "source": [
    "# Clean the data\n",
    "mailout_train_bal = clean_data(mailout_train_bal)"
   ]
  },
  {
   "cell_type": "markdown",
   "metadata": {},
   "source": [
    "To prepare the data for the training of the classifier we extract the 'RESPONSE' column  and drop it from the training data."
   ]
  },
  {
   "cell_type": "code",
   "execution_count": null,
   "metadata": {},
   "outputs": [],
   "source": [
    "# Get the label column\n",
    "response_df = mailout_train_bal['RESPONSE']"
   ]
  },
  {
   "cell_type": "code",
   "execution_count": null,
   "metadata": {},
   "outputs": [],
   "source": [
    "# Drop the label column from the training dataframe\n",
    "mailout_train_bal.drop(columns=['RESPONSE'],inplace=True)"
   ]
  },
  {
   "cell_type": "markdown",
   "metadata": {},
   "source": [
    "### 3.3 Engineer the customer segmentation feature"
   ]
  },
  {
   "cell_type": "markdown",
   "metadata": {},
   "source": [
    "To include the findings of our analysis from the customer segmentation part, we run the k-means clustering on the dataset and store the result in an additional column 'Label'.  The column contains the cluster to which which each individual from the mailout dataset is assigned."
   ]
  },
  {
   "cell_type": "code",
   "execution_count": null,
   "metadata": {},
   "outputs": [],
   "source": [
    "# Create the pipeline with the preprocessing and clustering steps from part 2\n",
    "pipeline = Pipeline([\n",
    "    ('imp', SimpleImputer(strategy='most_frequent')),\n",
    "    ('scal', StandardScaler()),\n",
    "    ('pca', PCA(168)),\n",
    "    ('clus', KMeans(n_clusters=5))\n",
    "    ])"
   ]
  },
  {
   "cell_type": "code",
   "execution_count": 166,
   "metadata": {},
   "outputs": [],
   "source": [
    "# Fit the model\n",
    "pipe_model = pipeline.fit(mailout_train_bal)"
   ]
  },
  {
   "cell_type": "code",
   "execution_count": 167,
   "metadata": {},
   "outputs": [],
   "source": [
    "# Predict the labels for the mailout train dataset\n",
    "mailout_train_clusters = pipe_model.predict(mailout_train_bal)"
   ]
  },
  {
   "cell_type": "code",
   "execution_count": 168,
   "metadata": {},
   "outputs": [],
   "source": [
    "# Add a new column in the dataset to store the clustering result\n",
    "mailout_train_bal['Label'] = pd.Series(mailout_train_clusters)"
   ]
  },
  {
   "cell_type": "markdown",
   "metadata": {},
   "source": [
    "### 3.4 Select the classification model"
   ]
  },
  {
   "cell_type": "code",
   "execution_count": 170,
   "metadata": {},
   "outputs": [],
   "source": [
    "int_range = [2, 4]\n",
    "float_range = [0.1, 1.0]\n",
    "n_estimators = [50, 100, 200]\n",
    "learning_rate = [.1,.3]\n",
    "\n",
    "params_lr = [{'pca__n_components': n_estimators,\n",
    "              'LR__C': float_range,\n",
    "              'LR__penalty': ['l1', 'l2'],\n",
    "              'LR__solver': ['liblinear']}]\n",
    "\n",
    "params_knn = [{'pca__n_components': n_estimators,\n",
    "               'KNN__n_neighbors': int_range,\n",
    "               'KNN__weights': ['uniform', 'distance'],\n",
    "               'KNN__metric': ['euclidean', 'manhattan']}]\n",
    "\n",
    "params_adb = [{'pca__n_components': n_estimators,\n",
    "               'ADB__n_estimators': n_estimators, \n",
    "               'ADB__learning_rate': learning_rate}]"
   ]
  },
  {
   "cell_type": "code",
   "execution_count": 171,
   "metadata": {},
   "outputs": [],
   "source": [
    "pipe_lr = Pipeline([\n",
    "    ('imp', SimpleImputer(strategy='most_frequent')),\n",
    "    ('scal', StandardScaler()),\n",
    "    ('pca', PCA()),\n",
    "    ('LR', LogisticRegression(random_state=42)),\n",
    "    ]) \n",
    "\n",
    "pipe_knn = Pipeline([\n",
    "    ('imp', SimpleImputer(strategy='most_frequent')),\n",
    "    ('scal', StandardScaler()),\n",
    "    ('pca', PCA()),\n",
    "    ('KNN', KNeighborsClassifier()),\n",
    "    ]) \n",
    "\n",
    "pipe_adb = Pipeline([\n",
    "    ('imp', SimpleImputer(strategy='most_frequent')),\n",
    "    ('scal', StandardScaler()),\n",
    "    ('pca', PCA()),\n",
    "    ('ADB', AdaBoostClassifier(random_state=42)),\n",
    "    ]) "
   ]
  },
  {
   "cell_type": "code",
   "execution_count": 172,
   "metadata": {},
   "outputs": [],
   "source": [
    "scoring = 'roc_auc'\n",
    "cv = 2\n",
    "verbose = 3\n",
    "\n",
    "grid_search_lr = GridSearchCV(estimator=pipe_lr,\n",
    "        param_grid=params_lr,\n",
    "        scoring=scoring,\n",
    "        cv=cv, verbose=verbose)\n",
    "\n",
    "grid_search_knn = GridSearchCV(estimator=pipe_knn,\n",
    "        param_grid=params_knn,\n",
    "        scoring=scoring,\n",
    "        cv=cv, verbose=verbose)\n",
    "\n",
    "grid_search_adb = GridSearchCV(estimator=pipe_adb,\n",
    "        param_grid=params_adb,\n",
    "        scoring=scoring,\n",
    "        cv=cv, verbose=verbose)"
   ]
  },
  {
   "cell_type": "code",
   "execution_count": 173,
   "metadata": {},
   "outputs": [],
   "source": [
    "mailout_train_bal_sample = mailout_train_bal.sample(frac=0.25)\n",
    "response_df_sample = response_df[response_df.index.isin(mailout_train_bal_sample.index)]"
   ]
  },
  {
   "cell_type": "code",
   "execution_count": 174,
   "metadata": {
    "scrolled": false
   },
   "outputs": [
    {
     "name": "stdout",
     "output_type": "stream",
     "text": [
      "Fitting 2 folds for each of 12 candidates, totalling 24 fits\n",
      "[CV] LR__C=0.1, LR__penalty=l1, LR__solver=liblinear, pca__n_components=50 \n"
     ]
    },
    {
     "name": "stderr",
     "output_type": "stream",
     "text": [
      "[Parallel(n_jobs=1)]: Using backend SequentialBackend with 1 concurrent workers.\n"
     ]
    },
    {
     "name": "stdout",
     "output_type": "stream",
     "text": [
      "[CV]  LR__C=0.1, LR__penalty=l1, LR__solver=liblinear, pca__n_components=50, score=0.6905266477482183, total=   0.9s\n",
      "[CV] LR__C=0.1, LR__penalty=l1, LR__solver=liblinear, pca__n_components=50 \n"
     ]
    },
    {
     "name": "stderr",
     "output_type": "stream",
     "text": [
      "[Parallel(n_jobs=1)]: Done   1 out of   1 | elapsed:    1.0s remaining:    0.0s\n"
     ]
    },
    {
     "name": "stdout",
     "output_type": "stream",
     "text": [
      "[CV]  LR__C=0.1, LR__penalty=l1, LR__solver=liblinear, pca__n_components=50, score=0.6985302282373842, total=   0.9s\n",
      "[CV] LR__C=0.1, LR__penalty=l1, LR__solver=liblinear, pca__n_components=100 \n"
     ]
    },
    {
     "name": "stderr",
     "output_type": "stream",
     "text": [
      "[Parallel(n_jobs=1)]: Done   2 out of   2 | elapsed:    2.0s remaining:    0.0s\n"
     ]
    },
    {
     "name": "stdout",
     "output_type": "stream",
     "text": [
      "[CV]  LR__C=0.1, LR__penalty=l1, LR__solver=liblinear, pca__n_components=100, score=0.7637865552935815, total=   1.4s\n",
      "[CV] LR__C=0.1, LR__penalty=l1, LR__solver=liblinear, pca__n_components=100 \n",
      "[CV]  LR__C=0.1, LR__penalty=l1, LR__solver=liblinear, pca__n_components=100, score=0.7704096522487098, total=   1.4s\n",
      "[CV] LR__C=0.1, LR__penalty=l1, LR__solver=liblinear, pca__n_components=200 \n",
      "[CV]  LR__C=0.1, LR__penalty=l1, LR__solver=liblinear, pca__n_components=200, score=0.795984477720263, total=   3.0s\n",
      "[CV] LR__C=0.1, LR__penalty=l1, LR__solver=liblinear, pca__n_components=200 \n",
      "[CV]  LR__C=0.1, LR__penalty=l1, LR__solver=liblinear, pca__n_components=200, score=0.7982421234998361, total=   3.0s\n",
      "[CV] LR__C=0.1, LR__penalty=l2, LR__solver=liblinear, pca__n_components=50 \n",
      "[CV]  LR__C=0.1, LR__penalty=l2, LR__solver=liblinear, pca__n_components=50, score=0.7008037540576103, total=   0.9s\n",
      "[CV] LR__C=0.1, LR__penalty=l2, LR__solver=liblinear, pca__n_components=50 \n",
      "[CV]  LR__C=0.1, LR__penalty=l2, LR__solver=liblinear, pca__n_components=50, score=0.7026897588857827, total=   0.9s\n",
      "[CV] LR__C=0.1, LR__penalty=l2, LR__solver=liblinear, pca__n_components=100 \n",
      "[CV]  LR__C=0.1, LR__penalty=l2, LR__solver=liblinear, pca__n_components=100, score=0.7656516800683009, total=   1.6s\n",
      "[CV] LR__C=0.1, LR__penalty=l2, LR__solver=liblinear, pca__n_components=100 \n",
      "[CV]  LR__C=0.1, LR__penalty=l2, LR__solver=liblinear, pca__n_components=100, score=0.7758596662007455, total=   1.6s\n",
      "[CV] LR__C=0.1, LR__penalty=l2, LR__solver=liblinear, pca__n_components=200 \n",
      "[CV]  LR__C=0.1, LR__penalty=l2, LR__solver=liblinear, pca__n_components=200, score=0.7958255173133243, total=   3.6s\n",
      "[CV] LR__C=0.1, LR__penalty=l2, LR__solver=liblinear, pca__n_components=200 \n",
      "[CV]  LR__C=0.1, LR__penalty=l2, LR__solver=liblinear, pca__n_components=200, score=0.7984130439373924, total=   3.6s\n",
      "[CV] LR__C=1.0, LR__penalty=l1, LR__solver=liblinear, pca__n_components=50 \n",
      "[CV]  LR__C=1.0, LR__penalty=l1, LR__solver=liblinear, pca__n_components=50, score=0.6906068079534284, total=   0.9s\n",
      "[CV] LR__C=1.0, LR__penalty=l1, LR__solver=liblinear, pca__n_components=50 \n",
      "[CV]  LR__C=1.0, LR__penalty=l1, LR__solver=liblinear, pca__n_components=50, score=0.7054753260168345, total=   0.9s\n",
      "[CV] LR__C=1.0, LR__penalty=l1, LR__solver=liblinear, pca__n_components=100 \n",
      "[CV]  LR__C=1.0, LR__penalty=l1, LR__solver=liblinear, pca__n_components=100, score=0.763989355812751, total=   1.4s\n",
      "[CV] LR__C=1.0, LR__penalty=l1, LR__solver=liblinear, pca__n_components=100 \n",
      "[CV]  LR__C=1.0, LR__penalty=l1, LR__solver=liblinear, pca__n_components=100, score=0.771612495327988, total=   1.6s\n",
      "[CV] LR__C=1.0, LR__penalty=l1, LR__solver=liblinear, pca__n_components=200 \n",
      "[CV]  LR__C=1.0, LR__penalty=l1, LR__solver=liblinear, pca__n_components=200, score=0.79594959763097, total=   3.0s\n",
      "[CV] LR__C=1.0, LR__penalty=l1, LR__solver=liblinear, pca__n_components=200 \n",
      "[CV]  LR__C=1.0, LR__penalty=l1, LR__solver=liblinear, pca__n_components=200, score=0.7978888425954371, total=   2.9s\n",
      "[CV] LR__C=1.0, LR__penalty=l2, LR__solver=liblinear, pca__n_components=50 \n",
      "[CV]  LR__C=1.0, LR__penalty=l2, LR__solver=liblinear, pca__n_components=50, score=0.6973983853398665, total=   1.0s\n",
      "[CV] LR__C=1.0, LR__penalty=l2, LR__solver=liblinear, pca__n_components=50 \n",
      "[CV]  LR__C=1.0, LR__penalty=l2, LR__solver=liblinear, pca__n_components=50, score=0.6998557516307242, total=   0.9s\n",
      "[CV] LR__C=1.0, LR__penalty=l2, LR__solver=liblinear, pca__n_components=100 \n",
      "[CV]  LR__C=1.0, LR__penalty=l2, LR__solver=liblinear, pca__n_components=100, score=0.7662422815802408, total=   1.6s\n",
      "[CV] LR__C=1.0, LR__penalty=l2, LR__solver=liblinear, pca__n_components=100 \n",
      "[CV]  LR__C=1.0, LR__penalty=l2, LR__solver=liblinear, pca__n_components=100, score=0.7673184843353199, total=   1.5s\n",
      "[CV] LR__C=1.0, LR__penalty=l2, LR__solver=liblinear, pca__n_components=200 \n",
      "[CV]  LR__C=1.0, LR__penalty=l2, LR__solver=liblinear, pca__n_components=200, score=0.796727199621631, total=   3.5s\n",
      "[CV] LR__C=1.0, LR__penalty=l2, LR__solver=liblinear, pca__n_components=200 \n",
      "[CV]  LR__C=1.0, LR__penalty=l2, LR__solver=liblinear, pca__n_components=200, score=0.7983882838740067, total=   3.5s\n"
     ]
    },
    {
     "name": "stderr",
     "output_type": "stream",
     "text": [
      "[Parallel(n_jobs=1)]: Done  24 out of  24 | elapsed:   48.0s finished\n"
     ]
    },
    {
     "name": "stdout",
     "output_type": "stream",
     "text": [
      "Fitting 2 folds for each of 24 candidates, totalling 48 fits\n",
      "[CV] KNN__metric=euclidean, KNN__n_neighbors=2, KNN__weights=uniform, pca__n_components=50 \n"
     ]
    },
    {
     "name": "stderr",
     "output_type": "stream",
     "text": [
      "[Parallel(n_jobs=1)]: Using backend SequentialBackend with 1 concurrent workers.\n"
     ]
    },
    {
     "name": "stdout",
     "output_type": "stream",
     "text": [
      "[CV]  KNN__metric=euclidean, KNN__n_neighbors=2, KNN__weights=uniform, pca__n_components=50, score=0.9801317891373802, total=   6.3s\n",
      "[CV] KNN__metric=euclidean, KNN__n_neighbors=2, KNN__weights=uniform, pca__n_components=50 \n"
     ]
    },
    {
     "name": "stderr",
     "output_type": "stream",
     "text": [
      "[Parallel(n_jobs=1)]: Done   1 out of   1 | elapsed:   11.6s remaining:    0.0s\n"
     ]
    },
    {
     "name": "stdout",
     "output_type": "stream",
     "text": [
      "[CV]  KNN__metric=euclidean, KNN__n_neighbors=2, KNN__weights=uniform, pca__n_components=50, score=0.9776357827476039, total=   6.0s\n",
      "[CV] KNN__metric=euclidean, KNN__n_neighbors=2, KNN__weights=uniform, pca__n_components=100 \n"
     ]
    },
    {
     "name": "stderr",
     "output_type": "stream",
     "text": [
      "[Parallel(n_jobs=1)]: Done   2 out of   2 | elapsed:   22.6s remaining:    0.0s\n"
     ]
    },
    {
     "name": "stdout",
     "output_type": "stream",
     "text": [
      "[CV]  KNN__metric=euclidean, KNN__n_neighbors=2, KNN__weights=uniform, pca__n_components=100, score=0.9830271565495208, total=  15.8s\n",
      "[CV] KNN__metric=euclidean, KNN__n_neighbors=2, KNN__weights=uniform, pca__n_components=100 \n",
      "[CV]  KNN__metric=euclidean, KNN__n_neighbors=2, KNN__weights=uniform, pca__n_components=100, score=0.9803314696485623, total=  16.9s\n",
      "[CV] KNN__metric=euclidean, KNN__n_neighbors=2, KNN__weights=uniform, pca__n_components=200 \n",
      "[CV]  KNN__metric=euclidean, KNN__n_neighbors=2, KNN__weights=uniform, pca__n_components=200, score=0.9730431309904153, total=  31.6s\n",
      "[CV] KNN__metric=euclidean, KNN__n_neighbors=2, KNN__weights=uniform, pca__n_components=200 \n",
      "[CV]  KNN__metric=euclidean, KNN__n_neighbors=2, KNN__weights=uniform, pca__n_components=200, score=0.9705471246006391, total=  30.7s\n",
      "[CV] KNN__metric=euclidean, KNN__n_neighbors=2, KNN__weights=distance, pca__n_components=50 \n",
      "[CV]  KNN__metric=euclidean, KNN__n_neighbors=2, KNN__weights=distance, pca__n_components=50, score=0.9795327476038338, total=   6.0s\n",
      "[CV] KNN__metric=euclidean, KNN__n_neighbors=2, KNN__weights=distance, pca__n_components=50 \n",
      "[CV]  KNN__metric=euclidean, KNN__n_neighbors=2, KNN__weights=distance, pca__n_components=50, score=0.9769369009584665, total=   6.0s\n",
      "[CV] KNN__metric=euclidean, KNN__n_neighbors=2, KNN__weights=distance, pca__n_components=100 \n",
      "[CV]  KNN__metric=euclidean, KNN__n_neighbors=2, KNN__weights=distance, pca__n_components=100, score=0.9809305111821086, total=  15.4s\n",
      "[CV] KNN__metric=euclidean, KNN__n_neighbors=2, KNN__weights=distance, pca__n_components=100 \n",
      "[CV]  KNN__metric=euclidean, KNN__n_neighbors=2, KNN__weights=distance, pca__n_components=100, score=0.9813298722044729, total=  15.3s\n",
      "[CV] KNN__metric=euclidean, KNN__n_neighbors=2, KNN__weights=distance, pca__n_components=200 \n",
      "[CV]  KNN__metric=euclidean, KNN__n_neighbors=2, KNN__weights=distance, pca__n_components=200, score=0.9735423322683706, total=  31.7s\n",
      "[CV] KNN__metric=euclidean, KNN__n_neighbors=2, KNN__weights=distance, pca__n_components=200 \n",
      "[CV]  KNN__metric=euclidean, KNN__n_neighbors=2, KNN__weights=distance, pca__n_components=200, score=0.9697484025559105, total=  31.2s\n",
      "[CV] KNN__metric=euclidean, KNN__n_neighbors=4, KNN__weights=uniform, pca__n_components=50 \n",
      "[CV]  KNN__metric=euclidean, KNN__n_neighbors=4, KNN__weights=uniform, pca__n_components=50, score=0.9802488694371057, total=   6.2s\n",
      "[CV] KNN__metric=euclidean, KNN__n_neighbors=4, KNN__weights=uniform, pca__n_components=50 \n",
      "[CV]  KNN__metric=euclidean, KNN__n_neighbors=4, KNN__weights=uniform, pca__n_components=50, score=0.9770262211871262, total=   6.2s\n",
      "[CV] KNN__metric=euclidean, KNN__n_neighbors=4, KNN__weights=uniform, pca__n_components=100 \n",
      "[CV]  KNN__metric=euclidean, KNN__n_neighbors=4, KNN__weights=uniform, pca__n_components=100, score=0.9815585927899976, total=  16.3s\n",
      "[CV] KNN__metric=euclidean, KNN__n_neighbors=4, KNN__weights=uniform, pca__n_components=100 \n",
      "[CV]  KNN__metric=euclidean, KNN__n_neighbors=4, KNN__weights=uniform, pca__n_components=100, score=0.9789706661649054, total=  16.8s\n",
      "[CV] KNN__metric=euclidean, KNN__n_neighbors=4, KNN__weights=uniform, pca__n_components=200 \n",
      "[CV]  KNN__metric=euclidean, KNN__n_neighbors=4, KNN__weights=uniform, pca__n_components=200, score=0.9731328112199967, total=  31.5s\n",
      "[CV] KNN__metric=euclidean, KNN__n_neighbors=4, KNN__weights=uniform, pca__n_components=200 \n",
      "[CV]  KNN__metric=euclidean, KNN__n_neighbors=4, KNN__weights=uniform, pca__n_components=200, score=0.9696762823712829, total=  32.1s\n",
      "[CV] KNN__metric=euclidean, KNN__n_neighbors=4, KNN__weights=distance, pca__n_components=50 \n",
      "[CV]  KNN__metric=euclidean, KNN__n_neighbors=4, KNN__weights=distance, pca__n_components=50, score=0.9807922708282134, total=   6.7s\n",
      "[CV] KNN__metric=euclidean, KNN__n_neighbors=4, KNN__weights=distance, pca__n_components=50 \n",
      "[CV]  KNN__metric=euclidean, KNN__n_neighbors=4, KNN__weights=distance, pca__n_components=50, score=0.9772273017018924, total=   6.9s\n",
      "[CV] KNN__metric=euclidean, KNN__n_neighbors=4, KNN__weights=distance, pca__n_components=100 \n",
      "[CV]  KNN__metric=euclidean, KNN__n_neighbors=4, KNN__weights=distance, pca__n_components=100, score=0.9826930356941714, total=  17.5s\n",
      "[CV] KNN__metric=euclidean, KNN__n_neighbors=4, KNN__weights=distance, pca__n_components=100 \n",
      "[CV]  KNN__metric=euclidean, KNN__n_neighbors=4, KNN__weights=distance, pca__n_components=100, score=0.9798356283792086, total=  16.9s\n",
      "[CV] KNN__metric=euclidean, KNN__n_neighbors=4, KNN__weights=distance, pca__n_components=200 \n",
      "[CV]  KNN__metric=euclidean, KNN__n_neighbors=4, KNN__weights=distance, pca__n_components=200, score=0.9734893321326903, total=  31.3s\n",
      "[CV] KNN__metric=euclidean, KNN__n_neighbors=4, KNN__weights=distance, pca__n_components=200 \n",
      "[CV]  KNN__metric=euclidean, KNN__n_neighbors=4, KNN__weights=distance, pca__n_components=200, score=0.9701045634676825, total=  31.6s\n",
      "[CV] KNN__metric=manhattan, KNN__n_neighbors=2, KNN__weights=uniform, pca__n_components=50 \n",
      "[CV]  KNN__metric=manhattan, KNN__n_neighbors=2, KNN__weights=uniform, pca__n_components=50, score=0.9800319488817891, total=   7.5s\n",
      "[CV] KNN__metric=manhattan, KNN__n_neighbors=2, KNN__weights=uniform, pca__n_components=50 \n",
      "[CV]  KNN__metric=manhattan, KNN__n_neighbors=2, KNN__weights=uniform, pca__n_components=50, score=0.9777356230031949, total=   7.1s\n",
      "[CV] KNN__metric=manhattan, KNN__n_neighbors=2, KNN__weights=uniform, pca__n_components=100 \n",
      "[CV]  KNN__metric=manhattan, KNN__n_neighbors=2, KNN__weights=uniform, pca__n_components=100, score=0.9812300319488817, total=  18.2s\n",
      "[CV] KNN__metric=manhattan, KNN__n_neighbors=2, KNN__weights=uniform, pca__n_components=100 \n",
      "[CV]  KNN__metric=manhattan, KNN__n_neighbors=2, KNN__weights=uniform, pca__n_components=100, score=0.9811301916932907, total=  17.0s\n",
      "[CV] KNN__metric=manhattan, KNN__n_neighbors=2, KNN__weights=uniform, pca__n_components=200 \n",
      "[CV]  KNN__metric=manhattan, KNN__n_neighbors=2, KNN__weights=uniform, pca__n_components=200, score=0.9683506389776358, total=  31.4s\n",
      "[CV] KNN__metric=manhattan, KNN__n_neighbors=2, KNN__weights=uniform, pca__n_components=200 \n",
      "[CV]  KNN__metric=manhattan, KNN__n_neighbors=2, KNN__weights=uniform, pca__n_components=200, score=0.9686501597444089, total=  32.3s\n",
      "[CV] KNN__metric=manhattan, KNN__n_neighbors=2, KNN__weights=distance, pca__n_components=50 \n",
      "[CV]  KNN__metric=manhattan, KNN__n_neighbors=2, KNN__weights=distance, pca__n_components=50, score=0.9806309904153354, total=   7.0s\n",
      "[CV] KNN__metric=manhattan, KNN__n_neighbors=2, KNN__weights=distance, pca__n_components=50 \n",
      "[CV]  KNN__metric=manhattan, KNN__n_neighbors=2, KNN__weights=distance, pca__n_components=50, score=0.9764376996805112, total=   7.0s\n",
      "[CV] KNN__metric=manhattan, KNN__n_neighbors=2, KNN__weights=distance, pca__n_components=100 \n",
      "[CV]  KNN__metric=manhattan, KNN__n_neighbors=2, KNN__weights=distance, pca__n_components=100, score=0.9822284345047924, total=  17.3s\n",
      "[CV] KNN__metric=manhattan, KNN__n_neighbors=2, KNN__weights=distance, pca__n_components=100 \n",
      "[CV]  KNN__metric=manhattan, KNN__n_neighbors=2, KNN__weights=distance, pca__n_components=100, score=0.9814297124600639, total=  17.9s\n",
      "[CV] KNN__metric=manhattan, KNN__n_neighbors=2, KNN__weights=distance, pca__n_components=200 \n",
      "[CV]  KNN__metric=manhattan, KNN__n_neighbors=2, KNN__weights=distance, pca__n_components=200, score=0.9692492012779552, total=  32.0s\n",
      "[CV] KNN__metric=manhattan, KNN__n_neighbors=2, KNN__weights=distance, pca__n_components=200 \n",
      "[CV]  KNN__metric=manhattan, KNN__n_neighbors=2, KNN__weights=distance, pca__n_components=200, score=0.9667531948881789, total=  32.3s\n",
      "[CV] KNN__metric=manhattan, KNN__n_neighbors=4, KNN__weights=uniform, pca__n_components=50 \n",
      "[CV]  KNN__metric=manhattan, KNN__n_neighbors=4, KNN__weights=uniform, pca__n_components=50, score=0.9802480694350577, total=   8.2s\n",
      "[CV] KNN__metric=manhattan, KNN__n_neighbors=4, KNN__weights=uniform, pca__n_components=50 \n",
      "[CV]  KNN__metric=manhattan, KNN__n_neighbors=4, KNN__weights=uniform, pca__n_components=50, score=0.9778521433014868, total=   8.0s\n",
      "[CV] KNN__metric=manhattan, KNN__n_neighbors=4, KNN__weights=uniform, pca__n_components=100 \n",
      "[CV]  KNN__metric=manhattan, KNN__n_neighbors=4, KNN__weights=uniform, pca__n_components=100, score=0.9819547538041697, total=  19.7s\n",
      "[CV] KNN__metric=manhattan, KNN__n_neighbors=4, KNN__weights=uniform, pca__n_components=100 \n",
      "[CV]  KNN__metric=manhattan, KNN__n_neighbors=4, KNN__weights=uniform, pca__n_components=100, score=0.9811585117657902, total=  19.5s\n",
      "[CV] KNN__metric=manhattan, KNN__n_neighbors=4, KNN__weights=uniform, pca__n_components=200 \n",
      "[CV]  KNN__metric=manhattan, KNN__n_neighbors=4, KNN__weights=uniform, pca__n_components=200, score=0.9691264009635865, total=  32.3s\n",
      "[CV] KNN__metric=manhattan, KNN__n_neighbors=4, KNN__weights=uniform, pca__n_components=200 \n",
      "[CV]  KNN__metric=manhattan, KNN__n_neighbors=4, KNN__weights=uniform, pca__n_components=200, score=0.9672044360433563, total=  32.7s\n",
      "[CV] KNN__metric=manhattan, KNN__n_neighbors=4, KNN__weights=distance, pca__n_components=50 \n",
      "[CV]  KNN__metric=manhattan, KNN__n_neighbors=4, KNN__weights=distance, pca__n_components=50, score=0.9794917474988736, total=   7.1s\n",
      "[CV] KNN__metric=manhattan, KNN__n_neighbors=4, KNN__weights=distance, pca__n_components=50 \n",
      "[CV]  KNN__metric=manhattan, KNN__n_neighbors=4, KNN__weights=distance, pca__n_components=50, score=0.9769263409314328, total=   7.2s\n",
      "[CV] KNN__metric=manhattan, KNN__n_neighbors=4, KNN__weights=distance, pca__n_components=100 \n",
      "[CV]  KNN__metric=manhattan, KNN__n_neighbors=4, KNN__weights=distance, pca__n_components=100, score=0.9813925123648317, total=  16.9s\n",
      "[CV] KNN__metric=manhattan, KNN__n_neighbors=4, KNN__weights=distance, pca__n_components=100 \n",
      "[CV]  KNN__metric=manhattan, KNN__n_neighbors=4, KNN__weights=distance, pca__n_components=100, score=0.9818420335156057, total=  17.4s\n",
      "[CV] KNN__metric=manhattan, KNN__n_neighbors=4, KNN__weights=distance, pca__n_components=200 \n",
      "[CV]  KNN__metric=manhattan, KNN__n_neighbors=4, KNN__weights=distance, pca__n_components=200, score=0.9679871180470222, total=  32.3s\n",
      "[CV] KNN__metric=manhattan, KNN__n_neighbors=4, KNN__weights=distance, pca__n_components=200 \n",
      "[CV]  KNN__metric=manhattan, KNN__n_neighbors=4, KNN__weights=distance, pca__n_components=200, score=0.9668943152494471, total=  32.5s\n"
     ]
    },
    {
     "name": "stderr",
     "output_type": "stream",
     "text": [
      "[Parallel(n_jobs=1)]: Done  48 out of  48 | elapsed: 28.4min finished\n"
     ]
    },
    {
     "name": "stdout",
     "output_type": "stream",
     "text": [
      "Fitting 2 folds for each of 18 candidates, totalling 36 fits\n",
      "[CV] ADB__learning_rate=0.1, ADB__n_estimators=50, pca__n_components=50 \n"
     ]
    },
    {
     "name": "stderr",
     "output_type": "stream",
     "text": [
      "[Parallel(n_jobs=1)]: Using backend SequentialBackend with 1 concurrent workers.\n"
     ]
    },
    {
     "name": "stdout",
     "output_type": "stream",
     "text": [
      "[CV]  ADB__learning_rate=0.1, ADB__n_estimators=50, pca__n_components=50, score=0.7092393956528529, total=   4.0s\n",
      "[CV] ADB__learning_rate=0.1, ADB__n_estimators=50, pca__n_components=50 \n"
     ]
    },
    {
     "name": "stderr",
     "output_type": "stream",
     "text": [
      "[Parallel(n_jobs=1)]: Done   1 out of   1 | elapsed:    4.2s remaining:    0.0s\n"
     ]
    },
    {
     "name": "stdout",
     "output_type": "stream",
     "text": [
      "[CV]  ADB__learning_rate=0.1, ADB__n_estimators=50, pca__n_components=50, score=0.7068430095181044, total=   3.9s\n",
      "[CV] ADB__learning_rate=0.1, ADB__n_estimators=50, pca__n_components=100 \n"
     ]
    },
    {
     "name": "stderr",
     "output_type": "stream",
     "text": [
      "[Parallel(n_jobs=1)]: Done   2 out of   2 | elapsed:    8.2s remaining:    0.0s\n"
     ]
    },
    {
     "name": "stdout",
     "output_type": "stream",
     "text": [
      "[CV]  ADB__learning_rate=0.1, ADB__n_estimators=50, pca__n_components=100, score=0.7529297475001535, total=   7.3s\n",
      "[CV] ADB__learning_rate=0.1, ADB__n_estimators=50, pca__n_components=100 \n",
      "[CV]  ADB__learning_rate=0.1, ADB__n_estimators=50, pca__n_components=100, score=0.7177460374298559, total=   7.4s\n",
      "[CV] ADB__learning_rate=0.1, ADB__n_estimators=50, pca__n_components=200 \n",
      "[CV]  ADB__learning_rate=0.1, ADB__n_estimators=50, pca__n_components=200, score=0.8376314843366, total=  14.7s\n",
      "[CV] ADB__learning_rate=0.1, ADB__n_estimators=50, pca__n_components=200 \n",
      "[CV]  ADB__learning_rate=0.1, ADB__n_estimators=50, pca__n_components=200, score=0.8061138836515421, total=  14.8s\n",
      "[CV] ADB__learning_rate=0.1, ADB__n_estimators=100, pca__n_components=50 \n",
      "[CV]  ADB__learning_rate=0.1, ADB__n_estimators=100, pca__n_components=50, score=0.7488290170022835, total=   7.0s\n",
      "[CV] ADB__learning_rate=0.1, ADB__n_estimators=100, pca__n_components=50 \n",
      "[CV]  ADB__learning_rate=0.1, ADB__n_estimators=100, pca__n_components=50, score=0.7405718958640535, total=   7.0s\n",
      "[CV] ADB__learning_rate=0.1, ADB__n_estimators=100, pca__n_components=100 \n",
      "[CV]  ADB__learning_rate=0.1, ADB__n_estimators=100, pca__n_components=100, score=0.7782375722881851, total=  13.6s\n",
      "[CV] ADB__learning_rate=0.1, ADB__n_estimators=100, pca__n_components=100 \n",
      "[CV]  ADB__learning_rate=0.1, ADB__n_estimators=100, pca__n_components=100, score=0.7683206069007537, total=  13.4s\n",
      "[CV] ADB__learning_rate=0.1, ADB__n_estimators=100, pca__n_components=200 \n",
      "[CV]  ADB__learning_rate=0.1, ADB__n_estimators=100, pca__n_components=200, score=0.8961431541264745, total=  27.0s\n",
      "[CV] ADB__learning_rate=0.1, ADB__n_estimators=100, pca__n_components=200 \n",
      "[CV]  ADB__learning_rate=0.1, ADB__n_estimators=100, pca__n_components=200, score=0.8653918554031499, total=  26.7s\n",
      "[CV] ADB__learning_rate=0.1, ADB__n_estimators=200, pca__n_components=50 \n",
      "[CV]  ADB__learning_rate=0.1, ADB__n_estimators=200, pca__n_components=50, score=0.7720642564844966, total=  13.4s\n",
      "[CV] ADB__learning_rate=0.1, ADB__n_estimators=200, pca__n_components=50 \n",
      "[CV]  ADB__learning_rate=0.1, ADB__n_estimators=200, pca__n_components=50, score=0.7841090073190587, total=  13.2s\n",
      "[CV] ADB__learning_rate=0.1, ADB__n_estimators=200, pca__n_components=100 \n",
      "[CV]  ADB__learning_rate=0.1, ADB__n_estimators=200, pca__n_components=100, score=0.8232556275344064, total=  25.6s\n",
      "[CV] ADB__learning_rate=0.1, ADB__n_estimators=200, pca__n_components=100 \n",
      "[CV]  ADB__learning_rate=0.1, ADB__n_estimators=200, pca__n_components=100, score=0.8238927491654379, total=  25.6s\n",
      "[CV] ADB__learning_rate=0.1, ADB__n_estimators=200, pca__n_components=200 \n",
      "[CV]  ADB__learning_rate=0.1, ADB__n_estimators=200, pca__n_components=200, score=0.9258692102251782, total=  51.2s\n",
      "[CV] ADB__learning_rate=0.1, ADB__n_estimators=200, pca__n_components=200 \n",
      "[CV]  ADB__learning_rate=0.1, ADB__n_estimators=200, pca__n_components=200, score=0.9016975083456213, total=  50.7s\n",
      "[CV] ADB__learning_rate=0.3, ADB__n_estimators=50, pca__n_components=50 \n",
      "[CV]  ADB__learning_rate=0.3, ADB__n_estimators=50, pca__n_components=50, score=0.7581642009003544, total=   3.9s\n",
      "[CV] ADB__learning_rate=0.3, ADB__n_estimators=50, pca__n_components=50 \n",
      "[CV]  ADB__learning_rate=0.3, ADB__n_estimators=50, pca__n_components=50, score=0.7504701612036127, total=   3.9s\n",
      "[CV] ADB__learning_rate=0.3, ADB__n_estimators=50, pca__n_components=100 \n",
      "[CV]  ADB__learning_rate=0.3, ADB__n_estimators=50, pca__n_components=100, score=0.8004050490369257, total=   7.3s\n",
      "[CV] ADB__learning_rate=0.3, ADB__n_estimators=50, pca__n_components=100 \n",
      "[CV]  ADB__learning_rate=0.3, ADB__n_estimators=50, pca__n_components=100, score=0.7983956238927972, total=   7.3s\n",
      "[CV] ADB__learning_rate=0.3, ADB__n_estimators=50, pca__n_components=200 \n",
      "[CV]  ADB__learning_rate=0.3, ADB__n_estimators=50, pca__n_components=200, score=0.8869692106411792, total=  14.9s\n",
      "[CV] ADB__learning_rate=0.3, ADB__n_estimators=50, pca__n_components=200 \n",
      "[CV]  ADB__learning_rate=0.3, ADB__n_estimators=50, pca__n_components=200, score=0.8734886561309597, total=  14.7s\n",
      "[CV] ADB__learning_rate=0.3, ADB__n_estimators=100, pca__n_components=50 \n",
      "[CV]  ADB__learning_rate=0.3, ADB__n_estimators=100, pca__n_components=50, score=0.7963935987676127, total=   7.0s\n",
      "[CV] ADB__learning_rate=0.3, ADB__n_estimators=100, pca__n_components=50 \n",
      "[CV]  ADB__learning_rate=0.3, ADB__n_estimators=100, pca__n_components=50, score=0.7964603589385189, total=   7.2s\n",
      "[CV] ADB__learning_rate=0.3, ADB__n_estimators=100, pca__n_components=100 \n",
      "[CV]  ADB__learning_rate=0.3, ADB__n_estimators=100, pca__n_components=100, score=0.8374985039961702, total=  13.3s\n",
      "[CV] ADB__learning_rate=0.3, ADB__n_estimators=100, pca__n_components=100 \n",
      "[CV]  ADB__learning_rate=0.3, ADB__n_estimators=100, pca__n_components=100, score=0.840250991042537, total=  13.4s\n",
      "[CV] ADB__learning_rate=0.3, ADB__n_estimators=100, pca__n_components=200 \n",
      "[CV]  ADB__learning_rate=0.3, ADB__n_estimators=100, pca__n_components=200, score=0.9261871710391579, total=  27.0s\n",
      "[CV] ADB__learning_rate=0.3, ADB__n_estimators=100, pca__n_components=200 \n",
      "[CV]  ADB__learning_rate=0.3, ADB__n_estimators=100, pca__n_components=200, score=0.920022915258663, total=  26.8s\n",
      "[CV] ADB__learning_rate=0.3, ADB__n_estimators=200, pca__n_components=50 \n",
      "[CV]  ADB__learning_rate=0.3, ADB__n_estimators=200, pca__n_components=50, score=0.8374122237752928, total=  13.3s\n",
      "[CV] ADB__learning_rate=0.3, ADB__n_estimators=200, pca__n_components=50 \n",
      "[CV]  ADB__learning_rate=0.3, ADB__n_estimators=200, pca__n_components=50, score=0.8337243343342959, total=  13.1s\n",
      "[CV] ADB__learning_rate=0.3, ADB__n_estimators=200, pca__n_components=100 \n",
      "[CV]  ADB__learning_rate=0.3, ADB__n_estimators=200, pca__n_components=100, score=0.8754814412324896, total=  25.6s\n",
      "[CV] ADB__learning_rate=0.3, ADB__n_estimators=200, pca__n_components=100 \n",
      "[CV]  ADB__learning_rate=0.3, ADB__n_estimators=200, pca__n_components=100, score=0.8829496603511304, total=  25.7s\n",
      "[CV] ADB__learning_rate=0.3, ADB__n_estimators=200, pca__n_components=200 \n",
      "[CV]  ADB__learning_rate=0.3, ADB__n_estimators=200, pca__n_components=200, score=0.956906849681535, total=  51.0s\n",
      "[CV] ADB__learning_rate=0.3, ADB__n_estimators=200, pca__n_components=200 \n",
      "[CV]  ADB__learning_rate=0.3, ADB__n_estimators=200, pca__n_components=200, score=0.9552938055521423, total=  50.6s\n"
     ]
    },
    {
     "name": "stderr",
     "output_type": "stream",
     "text": [
      "[Parallel(n_jobs=1)]: Done  36 out of  36 | elapsed: 11.1min finished\n"
     ]
    }
   ],
   "source": [
    "n = 20000\n",
    "grids = [grid_search_lr, grid_search_knn, grid_search_adb]\n",
    "for pipe in grids:\n",
    "    pipe.fit(mailout_train_bal[:n],response_df[:n])"
   ]
  },
  {
   "cell_type": "code",
   "execution_count": 175,
   "metadata": {},
   "outputs": [
    {
     "name": "stdout",
     "output_type": "stream",
     "text": [
      "Linear Regression AUC score: 0.8018941227874928\n",
      "Linear Regression Best Params: {'LR__C': 1.0, 'LR__penalty': 'l2', 'LR__solver': 'liblinear', 'pca__n_components': 200}\n",
      "K-Nearest Neighbors AUC score: 0.993379107405591\n",
      "K-Nearest Neighbors Best Params: {'KNN__metric': 'manhattan', 'KNN__n_neighbors': 2, 'KNN__weights': 'distance', 'pca__n_components': 100}\n",
      "AdaBoost AUC score: 0.9646847086015572\n",
      "AdaBoost Best Params: {'ADB__learning_rate': 0.3, 'ADB__n_estimators': 200, 'pca__n_components': 200}\n"
     ]
    }
   ],
   "source": [
    "grid_dict = {0: 'Linear Regression',\n",
    "             1: 'K-Nearest Neighbors', 2: 'AdaBoost'}\n",
    "for i, model in enumerate(grids):\n",
    "    print('{} AUC score: {}'.format(grid_dict[i],\n",
    "    model.score(mailout_train_bal,response_df)))\n",
    "    print('{} Best Params: {}'.format(grid_dict[i], model.best_params_))"
   ]
  },
  {
   "cell_type": "code",
   "execution_count": 234,
   "metadata": {},
   "outputs": [
    {
     "data": {
      "text/plain": [
       "0.18238268031725327"
      ]
     },
     "execution_count": 234,
     "metadata": {},
     "output_type": "execute_result"
    }
   ],
   "source": [
    "# We check if there is any label leakage, given the high AUC score\n",
    "mailout_train_bal.corrwith(response_df, axis = 0).max()"
   ]
  },
  {
   "cell_type": "markdown",
   "metadata": {},
   "source": [
    "From the results above we select the KNN pipeline model with 100 principal components because it has the highest AUC score."
   ]
  },
  {
   "cell_type": "code",
   "execution_count": 179,
   "metadata": {},
   "outputs": [
    {
     "data": {
      "text/plain": [
       "{'KNN__metric': 'manhattan',\n",
       " 'KNN__n_neighbors': 2,\n",
       " 'KNN__weights': 'distance',\n",
       " 'pca__n_components': 100}"
      ]
     },
     "execution_count": 179,
     "metadata": {},
     "output_type": "execute_result"
    }
   ],
   "source": [
    "# Print the parameters of the KNN pipeline model.\n",
    "grid_search_knn.best_params_"
   ]
  },
  {
   "cell_type": "markdown",
   "metadata": {},
   "source": [
    "## Part 4: Kaggle Competition\n",
    "\n",
    "Now that you've created a model to predict which individuals are most likely to respond to a mailout campaign, it's time to test that model in competition through Kaggle. If you click on the link [here](http://www.kaggle.com/t/21e6d45d4c574c7fa2d868f0e8c83140), you'll be taken to the competition page where, if you have a Kaggle account, you can enter.\n",
    "\n",
    "Your entry to the competition should be a CSV file with two columns. The first column should be a copy of \"LNR\", which acts as an ID number for each individual in the \"TEST\" partition. The second column, \"RESPONSE\", should be some measure of how likely each individual became a customer – this might not be a straightforward probability. As you should have found in Part 2, there is a large output class imbalance, where most individuals did not respond to the mailout. Thus, predicting individual classes and using accuracy does not seem to be an appropriate performance evaluation method. Instead, the competition will be using AUC to evaluate performance. The exact values of the \"RESPONSE\" column do not matter as much: only that the higher values try to capture as many of the actual customers as possible, early in the ROC curve sweep."
   ]
  },
  {
   "cell_type": "markdown",
   "metadata": {},
   "source": [
    "### 4.1 Load the test data"
   ]
  },
  {
   "cell_type": "code",
   "execution_count": 249,
   "metadata": {},
   "outputs": [
    {
     "name": "stderr",
     "output_type": "stream",
     "text": [
      "/opt/conda/lib/python3.6/site-packages/IPython/core/interactiveshell.py:2785: DtypeWarning: Columns (18,19) have mixed types. Specify dtype option on import or set low_memory=False.\n",
      "  interactivity=interactivity, compiler=compiler, result=result)\n"
     ]
    }
   ],
   "source": [
    "mailout_test = pd.read_csv('../../data/Term2/capstone/arvato_data/Udacity_MAILOUT_052018_TEST.csv', sep=';')"
   ]
  },
  {
   "cell_type": "code",
   "execution_count": 250,
   "metadata": {},
   "outputs": [
    {
     "data": {
      "text/html": [
       "<div>\n",
       "<style scoped>\n",
       "    .dataframe tbody tr th:only-of-type {\n",
       "        vertical-align: middle;\n",
       "    }\n",
       "\n",
       "    .dataframe tbody tr th {\n",
       "        vertical-align: top;\n",
       "    }\n",
       "\n",
       "    .dataframe thead th {\n",
       "        text-align: right;\n",
       "    }\n",
       "</style>\n",
       "<table border=\"1\" class=\"dataframe\">\n",
       "  <thead>\n",
       "    <tr style=\"text-align: right;\">\n",
       "      <th></th>\n",
       "      <th>LNR</th>\n",
       "      <th>AGER_TYP</th>\n",
       "      <th>AKT_DAT_KL</th>\n",
       "      <th>ALTER_HH</th>\n",
       "      <th>ALTER_KIND1</th>\n",
       "      <th>ALTER_KIND2</th>\n",
       "      <th>ALTER_KIND3</th>\n",
       "      <th>ALTER_KIND4</th>\n",
       "      <th>ALTERSKATEGORIE_FEIN</th>\n",
       "      <th>ANZ_HAUSHALTE_AKTIV</th>\n",
       "      <th>...</th>\n",
       "      <th>VHN</th>\n",
       "      <th>VK_DHT4A</th>\n",
       "      <th>VK_DISTANZ</th>\n",
       "      <th>VK_ZG11</th>\n",
       "      <th>W_KEIT_KIND_HH</th>\n",
       "      <th>WOHNDAUER_2008</th>\n",
       "      <th>WOHNLAGE</th>\n",
       "      <th>ZABEOTYP</th>\n",
       "      <th>ANREDE_KZ</th>\n",
       "      <th>ALTERSKATEGORIE_GROB</th>\n",
       "    </tr>\n",
       "  </thead>\n",
       "  <tbody>\n",
       "    <tr>\n",
       "      <th>0</th>\n",
       "      <td>1754</td>\n",
       "      <td>2</td>\n",
       "      <td>1.0</td>\n",
       "      <td>7.0</td>\n",
       "      <td>NaN</td>\n",
       "      <td>NaN</td>\n",
       "      <td>NaN</td>\n",
       "      <td>NaN</td>\n",
       "      <td>6.0</td>\n",
       "      <td>2.0</td>\n",
       "      <td>...</td>\n",
       "      <td>4.0</td>\n",
       "      <td>5.0</td>\n",
       "      <td>6.0</td>\n",
       "      <td>3.0</td>\n",
       "      <td>6.0</td>\n",
       "      <td>9.0</td>\n",
       "      <td>3.0</td>\n",
       "      <td>3</td>\n",
       "      <td>1</td>\n",
       "      <td>4</td>\n",
       "    </tr>\n",
       "    <tr>\n",
       "      <th>1</th>\n",
       "      <td>1770</td>\n",
       "      <td>-1</td>\n",
       "      <td>1.0</td>\n",
       "      <td>0.0</td>\n",
       "      <td>NaN</td>\n",
       "      <td>NaN</td>\n",
       "      <td>NaN</td>\n",
       "      <td>NaN</td>\n",
       "      <td>0.0</td>\n",
       "      <td>20.0</td>\n",
       "      <td>...</td>\n",
       "      <td>1.0</td>\n",
       "      <td>5.0</td>\n",
       "      <td>2.0</td>\n",
       "      <td>1.0</td>\n",
       "      <td>6.0</td>\n",
       "      <td>9.0</td>\n",
       "      <td>5.0</td>\n",
       "      <td>3</td>\n",
       "      <td>1</td>\n",
       "      <td>4</td>\n",
       "    </tr>\n",
       "    <tr>\n",
       "      <th>2</th>\n",
       "      <td>1465</td>\n",
       "      <td>2</td>\n",
       "      <td>9.0</td>\n",
       "      <td>16.0</td>\n",
       "      <td>NaN</td>\n",
       "      <td>NaN</td>\n",
       "      <td>NaN</td>\n",
       "      <td>NaN</td>\n",
       "      <td>11.0</td>\n",
       "      <td>2.0</td>\n",
       "      <td>...</td>\n",
       "      <td>3.0</td>\n",
       "      <td>9.0</td>\n",
       "      <td>6.0</td>\n",
       "      <td>3.0</td>\n",
       "      <td>2.0</td>\n",
       "      <td>9.0</td>\n",
       "      <td>4.0</td>\n",
       "      <td>3</td>\n",
       "      <td>2</td>\n",
       "      <td>4</td>\n",
       "    </tr>\n",
       "    <tr>\n",
       "      <th>3</th>\n",
       "      <td>1470</td>\n",
       "      <td>-1</td>\n",
       "      <td>7.0</td>\n",
       "      <td>0.0</td>\n",
       "      <td>NaN</td>\n",
       "      <td>NaN</td>\n",
       "      <td>NaN</td>\n",
       "      <td>NaN</td>\n",
       "      <td>0.0</td>\n",
       "      <td>1.0</td>\n",
       "      <td>...</td>\n",
       "      <td>2.0</td>\n",
       "      <td>6.0</td>\n",
       "      <td>6.0</td>\n",
       "      <td>3.0</td>\n",
       "      <td>NaN</td>\n",
       "      <td>9.0</td>\n",
       "      <td>2.0</td>\n",
       "      <td>3</td>\n",
       "      <td>2</td>\n",
       "      <td>4</td>\n",
       "    </tr>\n",
       "    <tr>\n",
       "      <th>4</th>\n",
       "      <td>1478</td>\n",
       "      <td>1</td>\n",
       "      <td>1.0</td>\n",
       "      <td>21.0</td>\n",
       "      <td>NaN</td>\n",
       "      <td>NaN</td>\n",
       "      <td>NaN</td>\n",
       "      <td>NaN</td>\n",
       "      <td>13.0</td>\n",
       "      <td>1.0</td>\n",
       "      <td>...</td>\n",
       "      <td>1.0</td>\n",
       "      <td>2.0</td>\n",
       "      <td>4.0</td>\n",
       "      <td>3.0</td>\n",
       "      <td>3.0</td>\n",
       "      <td>9.0</td>\n",
       "      <td>7.0</td>\n",
       "      <td>4</td>\n",
       "      <td>2</td>\n",
       "      <td>4</td>\n",
       "    </tr>\n",
       "  </tbody>\n",
       "</table>\n",
       "<p>5 rows × 366 columns</p>\n",
       "</div>"
      ],
      "text/plain": [
       "    LNR  AGER_TYP  AKT_DAT_KL  ALTER_HH  ALTER_KIND1  ALTER_KIND2  \\\n",
       "0  1754         2         1.0       7.0          NaN          NaN   \n",
       "1  1770        -1         1.0       0.0          NaN          NaN   \n",
       "2  1465         2         9.0      16.0          NaN          NaN   \n",
       "3  1470        -1         7.0       0.0          NaN          NaN   \n",
       "4  1478         1         1.0      21.0          NaN          NaN   \n",
       "\n",
       "   ALTER_KIND3  ALTER_KIND4  ALTERSKATEGORIE_FEIN  ANZ_HAUSHALTE_AKTIV  \\\n",
       "0          NaN          NaN                   6.0                  2.0   \n",
       "1          NaN          NaN                   0.0                 20.0   \n",
       "2          NaN          NaN                  11.0                  2.0   \n",
       "3          NaN          NaN                   0.0                  1.0   \n",
       "4          NaN          NaN                  13.0                  1.0   \n",
       "\n",
       "          ...           VHN  VK_DHT4A  VK_DISTANZ  VK_ZG11  W_KEIT_KIND_HH  \\\n",
       "0         ...           4.0       5.0         6.0      3.0             6.0   \n",
       "1         ...           1.0       5.0         2.0      1.0             6.0   \n",
       "2         ...           3.0       9.0         6.0      3.0             2.0   \n",
       "3         ...           2.0       6.0         6.0      3.0             NaN   \n",
       "4         ...           1.0       2.0         4.0      3.0             3.0   \n",
       "\n",
       "   WOHNDAUER_2008  WOHNLAGE ZABEOTYP ANREDE_KZ ALTERSKATEGORIE_GROB  \n",
       "0             9.0       3.0        3         1                    4  \n",
       "1             9.0       5.0        3         1                    4  \n",
       "2             9.0       4.0        3         2                    4  \n",
       "3             9.0       2.0        3         2                    4  \n",
       "4             9.0       7.0        4         2                    4  \n",
       "\n",
       "[5 rows x 366 columns]"
      ]
     },
     "execution_count": 250,
     "metadata": {},
     "output_type": "execute_result"
    }
   ],
   "source": [
    "mailout_test.head(5)"
   ]
  },
  {
   "cell_type": "markdown",
   "metadata": {},
   "source": [
    "### 4.2 Clean the test data"
   ]
  },
  {
   "cell_type": "code",
   "execution_count": 251,
   "metadata": {},
   "outputs": [],
   "source": [
    "# Copy the 'LNR' column\n",
    "mailout_test_LNR = mailout_test['LNR']"
   ]
  },
  {
   "cell_type": "code",
   "execution_count": 252,
   "metadata": {},
   "outputs": [],
   "source": [
    "# Redefine the clean function such that it does not drop any rows.\n",
    "def clean_test_data(df):    \n",
    "    '''\n",
    "    Returns a dataframe with numerical values.\n",
    "    \n",
    "    INPUT: \n",
    "        df - the original dataframe with mixed type columns.\n",
    "            \n",
    "    OUTPUT:\n",
    "        reduced_df - the new dataframe with numerical values.\n",
    "    '''\n",
    "    \n",
    "    convert_dict = {'CAMEO_DEUG_2015': float,'CAMEO_INTL_2015': float}\n",
    "    germ_dict = {'O': 0,'W': 1}\n",
    "    \n",
    "    # fix the data type error\n",
    "    df.iloc[:,17:20] = df.iloc[:,18:20].replace(['X','XX'], np.NaN)\n",
    "    df = df.astype(convert_dict)\n",
    "    \n",
    "    # drop not relevant columns\n",
    "    df.drop(columns=['D19_LETZTER_KAUF_BRANCHE','EINGEFUEGT_AM', 'LNR'],inplace=True)\n",
    "    \n",
    "    # Replace \"CAMEO_DEU_2015\" categorical values with new variables.\n",
    "    df['CAMEO_DEU_2015_first_dg'] = df['CAMEO_DEU_2015'].apply(first_dg_dict)\n",
    "    df['CAMEO_DEU_2015_second_dg'] = df['CAMEO_DEU_2015'].apply(second_dg_dict)\n",
    "    df['CAMEO_DEU_2015_second_dg'] = df['CAMEO_DEU_2015_second_dg'].apply(convert_letters)\n",
    "    \n",
    "    df.drop(columns=['CAMEO_DEU_2015'],inplace=True)\n",
    "\n",
    "    # Re-encode \"Ost\", \"West\" values with 0s and 1s.\n",
    "    df['OST_WEST_KZ'] = df['OST_WEST_KZ'].replace(germ_dict)\n",
    "    \n",
    "    # Asses missing data on each column\n",
    "    stats_col_df = data_stats_column(df)\n",
    "    keep_cols_ls = list(stats_col_df[stats_col_df['% of missing values'] <= 0.4].index)\n",
    "    reduced_df = df[keep_cols_ls]\n",
    "    \n",
    "    return reduced_df"
   ]
  },
  {
   "cell_type": "code",
   "execution_count": 253,
   "metadata": {},
   "outputs": [],
   "source": [
    "# Clean the data\n",
    "mailout_test = clean_test_data(mailout_test)"
   ]
  },
  {
   "cell_type": "markdown",
   "metadata": {},
   "source": [
    "### 4.3 Engineer the customer segmentation feature"
   ]
  },
  {
   "cell_type": "code",
   "execution_count": 254,
   "metadata": {},
   "outputs": [],
   "source": [
    "mailout_test_clusters = pipe_model.predict(mailout_test)\n",
    "mailout_test['Label'] = pd.Series(mailout_test_clusters)"
   ]
  },
  {
   "cell_type": "markdown",
   "metadata": {},
   "source": [
    "### 4.4 Predict using the selected classifier model"
   ]
  },
  {
   "cell_type": "markdown",
   "metadata": {},
   "source": [
    "To predict the responses in the test set we use the selected pipeline model from step 3.4. The model includes the following steps: imputing of missing values, standard scaling, dimensionality reduction using PCA, and classification using KNN classifier."
   ]
  },
  {
   "cell_type": "code",
   "execution_count": 255,
   "metadata": {},
   "outputs": [],
   "source": [
    "test_predictions = grid_search_knn.predict(mailout_test)"
   ]
  },
  {
   "cell_type": "markdown",
   "metadata": {},
   "source": [
    "### 4.5 Save the results for the Kaggle competition"
   ]
  },
  {
   "cell_type": "code",
   "execution_count": 257,
   "metadata": {},
   "outputs": [],
   "source": [
    "kaggle_results = pd.DataFrame({'LNR': mailout_test_LNR.astype(np.int32), 'RESPONSE': test_predictions})\n",
    "kaggle_results.to_csv('kaggle_results.csv', index=False)"
   ]
  },
  {
   "cell_type": "markdown",
   "metadata": {},
   "source": [
    "## Conclusion"
   ]
  },
  {
   "cell_type": "markdown",
   "metadata": {},
   "source": [
    "From the prediction results we conclude that among the 42.833 persons included in the marketing campaign, 631 will respond positively and become new clients. This corresponds to a 1,47% response rate. The predicted response rate in the test set is close to the response rate of 1,25% (532/42430) in the given training set."
   ]
  },
  {
   "cell_type": "code",
   "execution_count": 258,
   "metadata": {},
   "outputs": [
    {
     "data": {
      "text/plain": [
       "(631, 42833)"
      ]
     },
     "execution_count": 258,
     "metadata": {},
     "output_type": "execute_result"
    }
   ],
   "source": [
    "# Evaluate the results\n",
    "test_predictions.sum(), test_predictions.shape[0]"
   ]
  },
  {
   "cell_type": "code",
   "execution_count": 259,
   "metadata": {},
   "outputs": [
    {
     "data": {
      "text/plain": [
       "0    42430\n",
       "1      532\n",
       "Name: RESPONSE, dtype: int64"
      ]
     },
     "metadata": {},
     "output_type": "display_data"
    },
    {
     "data": {
      "image/png": "[encoded data removed]",
      "text/plain": [
       "<Figure size 432x288 with 1 Axes>"
      ]
     },
     "metadata": {
      "needs_background": "light"
     },
     "output_type": "display_data"
    }
   ],
   "source": [
    "ax = sns.countplot(x='RESPONSE', data=kaggle_results)\n",
    "display(mailout_train['RESPONSE'].value_counts())"
   ]
  },
  {
   "cell_type": "code",
   "execution_count": null,
   "metadata": {},
   "outputs": [],
   "source": []
  }
 ],
 "metadata": {
  "kernelspec": {
   "display_name": "Python 3",
   "language": "python",
   "name": "python3"
  },
  "language_info": {
   "codemirror_mode": {
    "name": "ipython",
    "version": 3
   },
   "file_extension": ".py",
   "mimetype": "text/x-python",
   "name": "python",
   "nbconvert_exporter": "python",
   "pygments_lexer": "ipython3",
   "version": "3.6.3"
  }
 },
 "nbformat": 4,
 "nbformat_minor": 2
}
